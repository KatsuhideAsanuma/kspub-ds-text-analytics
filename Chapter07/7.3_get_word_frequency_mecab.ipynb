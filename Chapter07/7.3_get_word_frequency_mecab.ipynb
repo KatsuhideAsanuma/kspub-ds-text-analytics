{
 "cells": [
  {
   "cell_type": "code",
   "execution_count": 1,
   "metadata": {},
   "outputs": [],
   "source": [
    "from collections import Counter # データ保管用\n",
    "import glob  # 指定ディレクトリ以下のファイルを得る\n",
    "\n",
    "import MeCab\n",
    "from tqdm import tqdm  # プログラスバーは表示\n",
    "\n",
    "# CoARiJの2014データが保存されているディレクトリ\n",
    "coarij_dir = 'data/CoARiJ/2014/docs'\n",
    "\n",
    "# MeCabのTaggerインスタンスは先に生成しておく\n",
    "tagger = MeCab.Tagger(\"\")"
   ]
  },
  {
   "cell_type": "code",
   "execution_count": 2,
   "metadata": {},
   "outputs": [],
   "source": [
    "def get_postag(feature):\n",
    "    return feature.split(',')[0]\n",
    "\n",
    "def extract_words(node):\n",
    "    words = []\n",
    "    while node:\n",
    "        postag = get_postag(node.feature)\n",
    "        if postag.startswith('名詞'):\n",
    "            words.append(node.surface)\n",
    "        node = node.next\n",
    "    return words\n",
    "\n",
    "def parse_file(path, tagger):\n",
    "    words_all = []\n",
    "    with open(path, 'r') as f:\n",
    "        for line in f:\n",
    "            line = line.strip()\n",
    "            if not line:\n",
    "                continue\n",
    "            node = tagger.parseToNode(line)\n",
    "            words = extract_words(node)\n",
    "            words_all.extend(words)\n",
    "    return words_all"
   ]
  },
  {
   "cell_type": "code",
   "execution_count": 3,
   "metadata": {},
   "outputs": [
    {
     "name": "stderr",
     "output_type": "stream",
     "text": [
      "100%|████████████████████████████████████████████████████████████████████████████████████████████████████████████████████████████████████████████████████████████████| 55658/55658 [02:40<00:00, 346.45it/s]\n"
     ]
    }
   ],
   "source": [
    "# ファイル一覧を得る\n",
    "paths = glob.glob(f'{coarij_dir}/**/**.txt', recursive=True)\n",
    "\n",
    "# 語の頻度を数えるための辞書型オブジェクト\n",
    "counter = Counter()\n",
    "\n",
    "# 単語の数を数える\n",
    "for path in tqdm(paths):\n",
    "    words = parse_file(path, tagger)\n",
    "    counter.update(words)"
   ]
  },
  {
   "cell_type": "code",
   "execution_count": 4,
   "metadata": {},
   "outputs": [
    {
     "name": "stdout",
     "output_type": "stream",
     "text": [
      "1, ,, 682950\n",
      "2, 年, 582744\n",
      "3, 当社, 452977\n",
      "4, 平成, 415267\n",
      "5, 取締役, 358117\n",
      "6, 監査, 353546\n",
      "7, 円, 334874\n",
      "8, (, 323318\n",
      "9, 事業, 319185\n",
      "10, ), 287824\n",
      "11, 等, 286322\n",
      "12, 万, 233498\n",
      "13, 百, 226565\n",
      "14, ., 223137\n",
      "15, 連結, 217948\n",
      "16, 役, 201814\n",
      "17, 会計, 178779\n",
      "18, 年度, 170543\n",
      "19, １, 167608\n",
      "20, 株式会社, 157233\n"
     ]
    }
   ],
   "source": [
    "# 頻度の高い語を上位20個表示\n",
    "for i, (word, count) in enumerate(counter.most_common(20)):\n",
    "    print(\"{:d}, {}, {:d}\".format(i+1, word, count))"
   ]
  },
  {
   "cell_type": "code",
   "execution_count": null,
   "metadata": {},
   "outputs": [],
   "source": []
  }
 ],
 "metadata": {
  "kernelspec": {
   "display_name": "Python 3",
   "language": "python",
   "name": "python3"
  },
  "language_info": {
   "codemirror_mode": {
    "name": "ipython",
    "version": 3
   },
   "file_extension": ".py",
   "mimetype": "text/x-python",
   "name": "python",
   "nbconvert_exporter": "python",
   "pygments_lexer": "ipython3",
   "version": "3.9.7"
  }
 },
 "nbformat": 4,
 "nbformat_minor": 4
}
