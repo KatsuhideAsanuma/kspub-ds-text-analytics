{
 "cells": [
  {
   "cell_type": "code",
   "execution_count": null,
   "metadata": {},
   "outputs": [],
   "source": [
    "!pip install coarij\n",
    "!coarij download --kind E --year 2014\n",
    "!mv data/interim data/CoARiJ"
   ]
  },
  {
   "cell_type": "code",
   "execution_count": null,
   "metadata": {},
   "outputs": [],
   "source": [
    "from collections import Counter # データ保管用\n",
    "import glob  # 指定ディレクトリ以下のファイルを得る\n",
    "\n",
    "import spacy\n",
    "from tqdm import tqdm  # プログラスバーは表示\n",
    "\n",
    "# CoARiJの2014データが保存されているディレクトリ\n",
    "coarij_dir = 'data/CoARiJ/2014/docs'\n",
    "\n",
    "# 解析の対象とする品詞\n",
    "noun_tags = set(['NOUN', 'PRON', 'PROPN'])\n",
    "\n",
    "# spacyのインスタンスを生成\n",
    "nlp = spacy.load('ja_ginza')"
   ]
  },
  {
   "cell_type": "code",
   "execution_count": null,
   "metadata": {},
   "outputs": [],
   "source": [
    "def extract_words(doc, pos_tags):\n",
    "    words = [token.string for token in doc\n",
    "             if token.pos_ in pos_tags]\n",
    "    return words\n",
    "\n",
    "def parse_file(path, nlp, pos_tags):\n",
    "    words_all = []\n",
    "    with open(path, 'r') as f:\n",
    "        for line in f:\n",
    "            line = line.strip()\n",
    "            if not line:\n",
    "                continue\n",
    "            doc = nlp.tokenizer(line)\n",
    "            words = extract_words(doc, pos_tags)\n",
    "            words_all.extend(words)\n",
    "    return words_all"
   ]
  },
  {
   "cell_type": "code",
   "execution_count": null,
   "metadata": {},
   "outputs": [],
   "source": [
    "# ファイル一覧を得る\n",
    "paths = glob.glob(f'{coarij_dir}/**/**.txt', recursive=True)\n",
    "\n",
    "# 語の頻度を数えるための辞書型オブジェクト\n",
    "counter = Counter()\n",
    "\n",
    "# 単語の数を数える\n",
    "for path in tqdm(paths):\n",
    "    words = parse_file(path, nlp, noun_tags)\n",
    "    counter.update(words)"
   ]
  },
  {
   "cell_type": "code",
   "execution_count": null,
   "metadata": {},
   "outputs": [],
   "source": [
    "# 頻度の高い語を上位20個表示\n",
    "for i, (word, count) in enumerate(counter.most_common(20)):\n",
    "    print(\"{:d}, {}, {:d}\".format(i+1, word, count))"
   ]
  }
 ],
 "metadata": {
  "kernelspec": {
   "display_name": "Python 3",
   "language": "python",
   "name": "python3"
  },
  "language_info": {
   "codemirror_mode": {
    "name": "ipython",
    "version": 3
   },
   "file_extension": ".py",
   "mimetype": "text/x-python",
   "name": "python",
   "nbconvert_exporter": "python",
   "pygments_lexer": "ipython3",
   "version": "3.9.7"
  }
 },
 "nbformat": 4,
 "nbformat_minor": 4
}
