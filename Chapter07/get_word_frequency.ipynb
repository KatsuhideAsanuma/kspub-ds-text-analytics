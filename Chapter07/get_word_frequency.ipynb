{
 "cells": [
  {
   "cell_type": "code",
   "execution_count": 8,
   "metadata": {},
   "outputs": [],
   "source": [
    "from collections import Counter # データ保管用\n",
    "import glob  # 指定ディレクトリ以下のファイルを得る\n",
    "\n",
    "import spacy\n",
    "from tqdm import tqdm  # プログラスバーは表示\n",
    "\n",
    "# CoARiJの2014データが保存されているディレクトリ\n",
    "coarij_dir = 'data/CoARiJ/2014/docs'\n",
    "\n",
    "# 解析の対象とする品詞\n",
    "noun_tags = set(['NOUN', 'PRON', 'PROPN'])\n",
    "\n",
    "# spacyのインスタンスを生成\n",
    "nlp = spacy.load('ja_ginza')"
   ]
  },
  {
   "cell_type": "code",
   "execution_count": 9,
   "metadata": {},
   "outputs": [],
   "source": [
    "def extract_words(doc, pos_tags):\n",
    "    words = [token.string for token in doc\n",
    "             if token.pos_ in pos_tags]\n",
    "    return words\n",
    "\n",
    "def parse_file(path, nlp, pos_tags):\n",
    "    words_all = []\n",
    "    with open(path, 'r') as f:\n",
    "        for line in f:\n",
    "            line = line.strip()\n",
    "            if not line:\n",
    "                continue\n",
    "            doc = nlp.tokenizer(line)\n",
    "            words = extract_words(doc, pos_tags)\n",
    "            words_all.extend(words)\n",
    "    return words_all"
   ]
  },
  {
   "cell_type": "code",
   "execution_count": 11,
   "metadata": {},
   "outputs": [
    {
     "name": "stderr",
     "output_type": "stream",
     "text": [
      "100%|███████████████████████████████████████████████████████████████████████████████████████████████████████████████████████████████████████████████████████████████| 55658/55658 [1:07:34<00:00, 13.73it/s]\n"
     ]
    }
   ],
   "source": [
    "# ファイル一覧を得る\n",
    "paths = glob.glob(f'{DATA_DIR}/**/**.txt', recursive=True)\n",
    "\n",
    "# 語の頻度を数えるための辞書型オブジェクト\n",
    "counter = Counter()\n",
    "\n",
    "# 単語の数を数える\n",
    "for path in tqdm(paths):\n",
    "    words = parse_file(path, nlp, noun_tags)\n",
    "    counter.update(words)"
   ]
  },
  {
   "cell_type": "code",
   "execution_count": 12,
   "metadata": {},
   "outputs": [
    {
     "name": "stdout",
     "output_type": "stream",
     "text": [
      "1, 年, 576470\n",
      "2, 月, 567931\n",
      "3, 当社, 451887\n",
      "4, 平成, 412532\n",
      "5, 円, 328609\n",
      "6, 等, 287525\n",
      "7, 事業, 246360\n",
      "8, 連結, 208021\n",
      "9, 取締役, 198451\n",
      "10, こと, 156442\n",
      "11, 株式会社, 156149\n",
      "12, グループ, 153850\n",
      "13, ため, 142240\n",
      "14, 監査役, 123592\n",
      "15, セグメント, 121435\n",
      "16, 状況, 114749\n",
      "17, 昭和, 110426\n",
      "18, 株式, 108475\n",
      "19, 経営, 105743\n",
      "20, 日, 105595\n"
     ]
    }
   ],
   "source": [
    "# 頻度の高い語を上位20個表示\n",
    "for i, (word, count) in enumerate(counter.most_common(20)):\n",
    "    print(\"{:d}, {}, {:d}\".format(i+1, word, count))"
   ]
  }
 ],
 "metadata": {
  "kernelspec": {
   "display_name": "Python 3",
   "language": "python",
   "name": "python3"
  },
  "language_info": {
   "codemirror_mode": {
    "name": "ipython",
    "version": 3
   },
   "file_extension": ".py",
   "mimetype": "text/x-python",
   "name": "python",
   "nbconvert_exporter": "python",
   "pygments_lexer": "ipython3",
   "version": "3.9.7"
  }
 },
 "nbformat": 4,
 "nbformat_minor": 4
}
