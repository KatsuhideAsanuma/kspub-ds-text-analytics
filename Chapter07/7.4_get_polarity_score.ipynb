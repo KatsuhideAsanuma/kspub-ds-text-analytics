{
 "cells": [
  {
   "cell_type": "markdown",
   "metadata": {},
   "source": [
    "## \t金融専門極性辞書を以下のサイトからダウンロード\n",
    "* https://sites.google.com/socsim.org/izumi-lab/tools/%E9%87%91%E8%9E%8D%E5%B0%82%E9%96%80%E6%A5%B5%E6%80%A7%E8%BE%9E%E6%9B%B8\n",
    "* ./data以下に配置"
   ]
  },
  {
   "cell_type": "code",
   "execution_count": 1,
   "metadata": {},
   "outputs": [],
   "source": [
    "import glob  # 指定ディレクトリ以下のファイルを得る\n",
    "import json  # jsonデータ用\n",
    "\n",
    "import MeCab\n",
    "import pandas as pd\n",
    "from tqdm import tqdm  # プログラスバーは表示\n",
    "\n",
    "# CoARiJのデータが保存されているディレクトリ\n",
    "coarij_dir = 'data/CoARiJ'\n",
    "\n",
    "# 対象年度(2014年から2018年)\n",
    "years = list(range(2014, 2019))\n",
    "\n",
    "# 辞書を読み込む\n",
    "df = pd.read_csv('data/polarity_dic_News.csv', usecols=[1,2])\n",
    "polarity_dic = dict(zip(df.word, df.score))\n",
    "\n",
    "# MeCabのTaggerインスタンスは先に生成しておく\n",
    "tagger = MeCab.Tagger(\"\")"
   ]
  },
  {
   "cell_type": "code",
   "execution_count": 2,
   "metadata": {},
   "outputs": [],
   "source": [
    "def get_postag(feature):\n",
    "    return feature.split(',')[0]\n",
    "\n",
    "def extract_words(node):\n",
    "    words = []\n",
    "    while node:\n",
    "        postag = get_postag(node.feature)\n",
    "        if postag.startswith('名詞'):\n",
    "            words.append(node.surface)\n",
    "        node = node.next\n",
    "    return words\n",
    "\n",
    "def parse_file(path, tagger):\n",
    "    words_all = []\n",
    "    with open(path, 'r') as f:\n",
    "        for line in f:\n",
    "            line = line.strip()\n",
    "            if not line:\n",
    "                continue\n",
    "            node = tagger.parseToNode(line)\n",
    "            words = extract_words(node)\n",
    "            words_all.extend(words)\n",
    "    return words_all"
   ]
  },
  {
   "cell_type": "code",
   "execution_count": 3,
   "metadata": {},
   "outputs": [
    {
     "name": "stderr",
     "output_type": "stream",
     "text": [
      "100%|██████████████████████████████████████████████████████████████████████████████████████████████████████████████████████████████████████████████████████████████████| 3274/3274 [00:08<00:00, 368.09it/s]\n",
      "100%|██████████████████████████████████████████████████████████████████████████████████████████████████████████████████████████████████████████████████████████████████| 3401/3401 [00:18<00:00, 185.55it/s]\n",
      "100%|██████████████████████████████████████████████████████████████████████████████████████████████████████████████████████████████████████████████████████████████████| 3580/3580 [00:18<00:00, 188.72it/s]\n",
      "100%|██████████████████████████████████████████████████████████████████████████████████████████████████████████████████████████████████████████████████████████████████| 3408/3408 [00:04<00:00, 793.69it/s]\n",
      "100%|█████████████████████████████████████████████████████████████████████████████████████████████████████████████████████████████████████████████████████████████████| 3718/3718 [00:02<00:00, 1657.12it/s]\n"
     ]
    }
   ],
   "source": [
    "# 年ごとに処理\n",
    "year_hash = {}\n",
    "\n",
    "for y in years:\n",
    "    # ファイル一覧を得る\n",
    "    paths = glob.glob(\n",
    "        f'{coarij_dir}/{y}/docs/**/**_business_overview_of_result.txt',\n",
    "        recursive=True)\n",
    "\n",
    "    # ファイルごとに処理\n",
    "    scores = []\n",
    "    for path in tqdm(paths):\n",
    "        words = parse_file(path, tagger)\n",
    "        score = sum([polarity_dic.get(word, 0) for word in words])\n",
    "        scores.append(score)\n",
    "\n",
    "    # 用意した辞書型に保存\n",
    "    year_hash[y] = scores\n",
    "\n",
    "# 集計したデータをjsonlとして出力\n",
    "with open('polarity_scores_mecab.jsonl', 'w') as f:\n",
    "    for y in years:\n",
    "        output = {'year': y,\n",
    "                  'sum': sum(year_hash[y]),\n",
    "                  'scores': year_hash[y]}\n",
    "        f.write(\"{}\\n\".format(json.dumps(output)))"
   ]
  },
  {
   "cell_type": "code",
   "execution_count": null,
   "metadata": {},
   "outputs": [],
   "source": []
  }
 ],
 "metadata": {
  "kernelspec": {
   "display_name": "Python 3",
   "language": "python",
   "name": "python3"
  },
  "language_info": {
   "codemirror_mode": {
    "name": "ipython",
    "version": 3
   },
   "file_extension": ".py",
   "mimetype": "text/x-python",
   "name": "python",
   "nbconvert_exporter": "python",
   "pygments_lexer": "ipython3",
   "version": "3.9.10"
  }
 },
 "nbformat": 4,
 "nbformat_minor": 4
}
