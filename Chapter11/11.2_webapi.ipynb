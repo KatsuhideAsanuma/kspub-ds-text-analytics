{
 "cells": [
  {
   "cell_type": "code",
   "execution_count": null,
   "id": "d457116a",
   "metadata": {},
   "outputs": [],
   "source": [
    "import requests\n",
    "import json\n",
    "\n",
    "api_url = \"https://api.ce-cotoha.com/api/dev\"\n",
    "auth_url = \"https://api.ce-cotoha.com/v1/oauth/accesstokens\"\n",
    "client_id = \"[client id]\"\n",
    "client_secret = \"[client secret]\""
   ]
  },
  {
   "cell_type": "markdown",
   "id": "98aeb237",
   "metadata": {},
   "source": [
    "## Barer tokenの取得"
   ]
  },
  {
   "cell_type": "code",
   "execution_count": null,
   "id": "ce9a4108-c334-433b-87c1-9533ef557ddd",
   "metadata": {},
   "outputs": [],
   "source": [
    "def post_url(url, body, access_token=None):\n",
    "    headers = {\n",
    "        \"Content-Type\": \"application/json\",\n",
    "        \"charset\": \"UTF-8\"\n",
    "    }\n",
    "    \n",
    "    if access_token is not None:\n",
    "        headers[\"Authorization\"] = f\"Bearer {access_token}\"\n",
    "    \n",
    "    data = json.dumps(body)\n",
    "    res = requests.post(url, headers=headers, data=data)\n",
    "    return res"
   ]
  },
  {
   "cell_type": "code",
   "execution_count": null,
   "id": "7474a876-ba01-4f2e-bf88-9eec18c62523",
   "metadata": {},
   "outputs": [],
   "source": [
    "def post_api(url, body, access_token=None):\n",
    "    res = post_url(url, body, access_token)\n",
    "    if res.status_code == 200:\n",
    "        result = json.loads(res.text)\n",
    "    else:\n",
    "        result = None\n",
    "    return result"
   ]
  },
  {
   "cell_type": "code",
   "execution_count": null,
   "id": "c14d31c3",
   "metadata": {},
   "outputs": [],
   "source": [
    "def get_access_token(url, client_id, client_secret):\n",
    "    body= {\n",
    "      \"grantType\": \"client_credentials\",\n",
    "      \"clientId\": client_id,\n",
    "      \"clientSecret\": client_secret\n",
    "    }\n",
    "    res = post_url(url, body)\n",
    "    \n",
    "    if res.status_code == 201:\n",
    "        entry = json.loads(res.text)\n",
    "        access_token = entry[\"access_token\"]\n",
    "    else:\n",
    "        access_token = None        \n",
    "    return access_token"
   ]
  },
  {
   "cell_type": "code",
   "execution_count": null,
   "id": "5e5e67d2-eddf-4d83-a914-3a4db6aea3dd",
   "metadata": {},
   "outputs": [],
   "source": [
    "access_token = get_access_token(auth_url, client_id, client_secret)\n",
    "print(access_token)"
   ]
  },
  {
   "cell_type": "code",
   "execution_count": null,
   "id": "c5d611e2",
   "metadata": {},
   "outputs": [],
   "source": [
    "def tokenize(text, api_url, access_token):\n",
    "    body= {\n",
    "        \"sentence\": text,\n",
    "        \"type\": \"default\"\n",
    "    }\n",
    "    url = f\"{api_url}/nlp/v1/parse\"\n",
    "    result = post_api(url, body, access_token)\n",
    "    return result"
   ]
  },
  {
   "cell_type": "code",
   "execution_count": null,
   "id": "58a97f23-9ad7-4978-b5fc-515624b8475f",
   "metadata": {},
   "outputs": [],
   "source": [
    "result = tokenize(\"今日は会社に行かなかった\", api_url, access_token)\n",
    "if result is not None:\n",
    "    for chunk in result[\"result\"]:\n",
    "        for token in chunk[\"tokens\"]:\n",
    "            print(token[\"form\"])"
   ]
  },
  {
   "cell_type": "code",
   "execution_count": null,
   "id": "645f7e4a",
   "metadata": {},
   "outputs": [],
   "source": [
    "def ner(text, api_url, access_token):\n",
    "    body= {\n",
    "        \"sentence\": text,\n",
    "        \"type\": \"default\"\n",
    "    }\n",
    "    url = f\"{api_url}/nlp/v1/ne\"\n",
    "    result = post_api(url, body, access_token)\n",
    "    return result"
   ]
  },
  {
   "cell_type": "code",
   "execution_count": null,
   "id": "bba695ac-9594-48fd-9c1b-dc3663d31f85",
   "metadata": {},
   "outputs": [],
   "source": [
    "result = ner(\"今日は会社に行かなかった\", api_url, access_token)\n",
    "if result is not None:\n",
    "    for entry in result[\"result\"]:\n",
    "        print(entry[\"std_form\"], entry[\"class\"], entry[\"extended_class\"])"
   ]
  },
  {
   "cell_type": "code",
   "execution_count": null,
   "id": "18b7f80b",
   "metadata": {},
   "outputs": [],
   "source": [
    "def keyword_extraction(texts, api_url, access_token):\n",
    "    body= {\n",
    "        \"document\": texts,\n",
    "        \"type\": \"default\"\n",
    "    }\n",
    "    url = f\"{api_url}/nlp/v1/keyword\".format(api_url)\n",
    "    result = post_api(url, body, access_token)\n",
    "    return result"
   ]
  },
  {
   "cell_type": "code",
   "execution_count": null,
   "id": "8e64697a-d030-4c04-909f-cdb5492869ee",
   "metadata": {},
   "outputs": [],
   "source": [
    "texts = [\"会社敷地内で、被災者はミキサー車を整備中に、車体に上ろうとしたところ体のバランスを崩して転倒し被災した。\"]\n",
    "result = keyword_extraction(texts, api_url, access_token)\n",
    "if result is not None:\n",
    "    for entry in result[\"result\"]:\n",
    "        print(entry[\"form\"],entry[\"score\"])"
   ]
  },
  {
   "cell_type": "code",
   "execution_count": null,
   "id": "c85d221d",
   "metadata": {},
   "outputs": [],
   "source": [
    "def sentiment_analysis(text, api_url, access_token):\n",
    "    body= {\n",
    "        \"sentence\": text\n",
    "    }\n",
    "    url = f\"{api_url}/nlp/v1/sentiment\"\n",
    "    result = post_api(url, body, access_token)\n",
    "    return result"
   ]
  },
  {
   "cell_type": "code",
   "execution_count": null,
   "id": "9aa73e60-f9d7-4b17-8523-3aa5a3ed9a11",
   "metadata": {},
   "outputs": [],
   "source": [
    "text = (\"パラリンピック、見応えある競技も多いけど、今のところ一番はブラインドサッカーだな。\"\n",
    "        \"盲目の剣士とか武術家はフィクションでは見るけど、リアルに音だけであんなに高度なサッカーできるとは思わなかった。\"\n",
    "        \"超人スポーツみがあって、厨二心もくすぐられる。\")\n",
    "result = sentiment_analysis(text, api_url, access_token)\n",
    "if result is not None:\n",
    "    entry = result[\"result\"]\n",
    "    print(entry[\"sentiment\"], entry[\"score\"])\n",
    "    for phrase in entry[\"emotional_phrase\"]:\n",
    "        print(phrase)"
   ]
  }
 ],
 "metadata": {
  "interpreter": {
   "hash": "b23b9c62ae57b4c884f792f127fc82864f070ef753cb869e04a459bae0684ad8"
  },
  "kernelspec": {
   "display_name": "Python 3",
   "language": "python",
   "name": "python3"
  },
  "language_info": {
   "codemirror_mode": {
    "name": "ipython",
    "version": 3
   },
   "file_extension": ".py",
   "mimetype": "text/x-python",
   "name": "python",
   "nbconvert_exporter": "python",
   "pygments_lexer": "ipython3",
   "version": "3.9.7"
  }
 },
 "nbformat": 4,
 "nbformat_minor": 5
}
