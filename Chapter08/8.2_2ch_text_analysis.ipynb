{
 "cells": [
  {
   "cell_type": "markdown",
   "id": "50c8f45f-49ba-45f5-8ea8-97e781db00f5",
   "metadata": {
    "tags": []
   },
   "source": [
    "## 解析対象データの入手"
   ]
  },
  {
   "cell_type": "code",
   "execution_count": null,
   "id": "502a8bd8-2873-4416-bccf-c513554c0e14",
   "metadata": {
    "tags": []
   },
   "outputs": [],
   "source": [
    "# 必要なデータのダウンロード\n",
    "!wget http://open.ceek.jp/2chsc/2chsc_thread_archive_2020.txt.gz\n",
    "# ファイルの内容を確認．終了はq をタイプ \n",
    "!less 2chsc_thread_archive_2020.txt.gz"
   ]
  },
  {
   "cell_type": "markdown",
   "id": "50c8f45f-49ba-45f5-8ea8-97e781db00f5",
   "metadata": {
    "tags": []
   },
   "source": [
    "## 分析の実施"
   ]
  },
  {
   "cell_type": "markdown",
   "id": "e2140f7d",
   "metadata": {},
   "source": [
    "### 月毎に頻出語を算出する"
   ]
  },
  {
   "cell_type": "code",
   "execution_count": null,
   "id": "806400ec-fd08-4df5-88f7-c3182373995b",
   "metadata": {},
   "outputs": [],
   "source": [
    "## WSL/Linux\n",
    "!zcat 2chsc_thread_archive_2020.txt.gz | python 2ch_monthly_keywords_v1.py > 2ch_result_frequent_words.txt\n",
    "\n",
    "## MacOS\n",
    "!gzcat 2chsc_thread_archive_2020.txt.gz | python 2ch_monthly_keywords_v1.py > 2ch_result_frequent_words.txt\n"
   ]
  },
  {
   "cell_type": "markdown",
   "id": "e2140f7d",
   "metadata": {},
   "source": [
    "### 月毎に特徴語を算出する"
   ]
  },
  {
   "cell_type": "code",
   "execution_count": null,
   "id": "806400ec-fd08-4df5-88f7-c3182373995b",
   "metadata": {},
   "outputs": [],
   "source": [
    "## WSL/Linux\n",
    "!zcat 2chsc_thread_archive_2020.txt.gz | python 2ch_monthly_keywords_v2.py > 2ch_result_feature_words.txt\n",
    "\n",
    "## MacOS\n",
    "!gzcat 2chsc_thread_archive_2020.txt.gz | python 2ch_monthly_keywords_v2.py > 2ch_result_feature_words.txt\n"
   ]
  },
  {
   "cell_type": "markdown",
   "id": "787c25da",
   "metadata": {},
   "source": [
    "### 日毎に感情成分を算出する"
   ]
  },
  {
   "cell_type": "code",
   "execution_count": null,
   "id": "74283a3a",
   "metadata": {},
   "outputs": [],
   "source": [
    "## WSL/Linux\n",
    "!zcat 2chsc_thread_archive_2020.txt.gz | python 2ch_daily_emotions.py > 2ch_result_emotion.txt\n",
    "\n",
    "## MacOS\n",
    "!gzcat 2chsc_thread_archive_2020.txt.gz | python 2ch_daily_emotions.py > 2ch_result_emotion.txt\n"
   ]
  }
 ],
 "metadata": {
  "kernelspec": {
   "display_name": "Python 3 (ipykernel)",
   "language": "python",
   "name": "python3"
  },
  "language_info": {
   "codemirror_mode": {
    "name": "ipython",
    "version": 3
   },
   "file_extension": ".py",
   "mimetype": "text/x-python",
   "name": "python",
   "nbconvert_exporter": "python",
   "pygments_lexer": "ipython3",
   "version": "3.9.7"
  },
  "toc-autonumbering": false,
  "toc-showcode": false,
  "toc-showmarkdowntxt": false,
  "toc-showtags": false
 },
 "nbformat": 4,
 "nbformat_minor": 5
}
