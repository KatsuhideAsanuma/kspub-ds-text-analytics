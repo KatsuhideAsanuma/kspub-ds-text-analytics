{
 "cells": [
  {
   "cell_type": "markdown",
   "id": "50c8f45f-49ba-45f5-8ea8-97e781db00f5",
   "metadata": {
    "tags": []
   },
   "source": [
    "## 解析対象データの入手"
   ]
  },
  {
   "cell_type": "code",
   "execution_count": null,
   "id": "6b306af3-00ca-4319-8417-a9d726b0614d",
   "metadata": {
    "tags": []
   },
   "outputs": [],
   "source": [
    "# Twitterからランダム抽出されたツイートを継続的に収集\n",
    "## CTRL+Cが押されるまでデータ収集は止まらない．1週間〜それ以上継続的にプログラムを動作させることを想定\n",
    "!python  twitter_stream_api.py >archive_streaming.txt"
   ]
  },
  {
   "cell_type": "markdown",
   "id": "50c8f45f-49ba-45f5-8ea8-97e781db00f5",
   "metadata": {
    "tags": []
   },
   "source": [
    "## 分析の実施"
   ]
  },
  {
   "cell_type": "markdown",
   "id": "e2140f7d",
   "metadata": {},
   "source": [
    "### 先頭100行のみを用いて頻出語を算出する"
   ]
  },
  {
   "cell_type": "code",
   "execution_count": null,
   "id": "806400ec-fd08-4df5-88f7-c3182373995b",
   "metadata": {},
   "outputs": [],
   "source": [
    "## WSL/Linux\n",
    "!zcat archive_streaming.txt.gz |head -n 100 | cut -f 2  | python twitter_monthly_keywords_v1.py > twitter_streaming_result_frequent_words_head1000.txt\n",
    "\n",
    "## MacOSX\n",
    "!gzcat archive_streaming.txt.gz |head -n 100 | cut -f 2  | python twitter_monthly_keywords_v1.py > twitter_streaming_result_frequent_words_head1000.txt"
   ]
  },
  {
   "cell_type": "markdown",
   "id": "e2140f7d",
   "metadata": {},
   "source": [
    "### 月毎の頻出語算出を高速化する"
   ]
  },
  {
   "cell_type": "code",
   "execution_count": null,
   "id": "806400ec-fd08-4df5-88f7-c3182373995b",
   "metadata": {},
   "outputs": [],
   "source": [
    "## 日毎の頻出語算出を並列実行する\n",
    "!cat 2020-01-01.txt | python twitter_monthly_keywords_v3.py > r_2020-01-01.txt &\n",
    "!cat 2020-01-02.txt | python twitter_monthly_keywords_v3.py > r_2020-01-02.txt &\n",
    "!cat 2020-01-03.txt | python twitter_monthly_keywords_v3.py > r_2020-01-03.txt &\n",
    "!cat 2020-01-04.txt | python twitter_monthly_keywords_v3.py > r_2020-01-04.txt &\n",
    "!cat 2020-01-05.txt | python twitter_monthly_keywords_v3.py > r_2020-01-05.txt &\n",
    "...\n",
    "\n",
    "## 全てのプログラムが終了したら，最終結果を集計する\n",
    "!cat r_*.txt | python compute_twitter_monthly_keywords_v2.py > result.txt"
   ]
  },
  {
   "cell_type": "markdown",
   "id": "787c25da",
   "metadata": {},
   "source": [
    "### 月毎にWordCloudを作成する"
   ]
  },
  {
   "cell_type": "code",
   "execution_count": null,
   "id": "74283a3a",
   "metadata": {},
   "outputs": [],
   "source": [
    "## 中間生成ファイルを再利用してWordCloudを作成する\n",
    "!cat r_*.txt | python compute_twitter_monthly_wordcloud.py > result.txt"
   ]
  }
 ],
 "metadata": {
  "kernelspec": {
   "display_name": "Python 3 (ipykernel)",
   "language": "python",
   "name": "python3"
  },
  "language_info": {
   "codemirror_mode": {
    "name": "ipython",
    "version": 3
   },
   "file_extension": ".py",
   "mimetype": "text/x-python",
   "name": "python",
   "nbconvert_exporter": "python",
   "pygments_lexer": "ipython3",
   "version": "3.9.7"
  },
  "toc-autonumbering": false,
  "toc-showcode": false,
  "toc-showmarkdowntxt": false,
  "toc-showtags": false
 },
 "nbformat": 4,
 "nbformat_minor": 5
}
