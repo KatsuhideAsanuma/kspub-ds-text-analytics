{
 "cells": [
  {
   "cell_type": "markdown",
   "id": "c5442ad9-6a01-4815-bf1b-1db7661bb78d",
   "metadata": {
    "tags": []
   },
   "source": [
    "## パッケージのインストール"
   ]
  },
  {
   "cell_type": "code",
   "execution_count": 1,
   "id": "5f05ddff-01a2-47cd-8cae-3be310d28643",
   "metadata": {
    "tags": []
   },
   "outputs": [
    {
     "name": "stdout",
     "output_type": "stream",
     "text": [
      "\u001b[33mWARNING: You are using pip version 21.2.4; however, version 22.0.3 is available.\n",
      "You should consider upgrading via the '/Users/tksakaki/.pyenv/versions/3.9.10/envs/ginza4.0/bin/python3.9 -m pip install --upgrade pip' command.\u001b[0m\n"
     ]
    }
   ],
   "source": [
    "!pip install requests_oauthlib python-dotenv\n",
    "!sudo apt install mecab libmecab-dev mecab-ipadic-utf8\n",
    "!pip install MeCab pymlask"
   ]
  },
  {
   "cell_type": "markdown",
   "id": "50c8f45f-49ba-45f5-8ea8-97e781db00f5",
   "metadata": {
    "tags": []
   },
   "source": [
    "## 解析対象データの入手"
   ]
  },
  {
   "cell_type": "markdown",
   "id": "15b55e82-a745-4f4b-95d7-31461a4acd54",
   "metadata": {
    "tags": []
   },
   "source": [
    "### Search APIからデータを収集"
   ]
  },
  {
   "cell_type": "code",
   "execution_count": null,
   "id": "502a8bd8-2873-4416-bccf-c513554c0e14",
   "metadata": {
    "tags": []
   },
   "outputs": [],
   "source": [
    "# 指定された単語を含むツイートを収集\n",
    "## 下記のプログラムを定期的に実行することで，指定された単語を含む全てのツイートを収集することができます\n",
    "!python twitter_search_api.py >archive_search.txt"
   ]
  },
  {
   "cell_type": "markdown",
   "id": "6fa255a6-714c-410f-a2ad-1bf07dbe3582",
   "metadata": {
    "tags": []
   },
   "source": [
    "### Streaming APIからデータを収集"
   ]
  },
  {
   "cell_type": "code",
   "execution_count": null,
   "id": "6b306af3-00ca-4319-8417-a9d726b0614d",
   "metadata": {
    "tags": []
   },
   "outputs": [],
   "source": [
    "# Twitterからランダム抽出されたツイートを継続的に収集\n",
    "## CTRL+Cが押されるまでデータ収集は止まらない．1週間〜それ以上継続的にプログラムを動作させることを想定\n",
    "!python  twitter_stream_api.py >archive_streaming.txt"
   ]
  },
  {
   "cell_type": "markdown",
   "id": "50c8f45f-49ba-45f5-8ea8-97e781db00f5",
   "metadata": {
    "tags": []
   },
   "source": [
    "## 分析の実施"
   ]
  },
  {
   "cell_type": "markdown",
   "id": "e2140f7d",
   "metadata": {},
   "source": [
    "### 月毎に頻出語を算出する"
   ]
  },
  {
   "cell_type": "code",
   "execution_count": null,
   "id": "806400ec-fd08-4df5-88f7-c3182373995b",
   "metadata": {},
   "outputs": [],
   "source": [
    "## 検索データ\n",
    "!cut -f 2 archive_search.txt  | python twitter_monthly_keywords_v1.py > twitter_search_result_frequent_words.txt\n",
    "## Streamingデータ\n",
    "!cut -f 2 archive_streaming.txt  | python twitter_monthly_keywords_v1.py > twitter_streaming_result_frequent_words.txt"
   ]
  },
  {
   "cell_type": "markdown",
   "id": "e2140f7d",
   "metadata": {},
   "source": [
    "### 月毎に特徴語を算出する"
   ]
  },
  {
   "cell_type": "code",
   "execution_count": null,
   "id": "806400ec-fd08-4df5-88f7-c3182373995b",
   "metadata": {},
   "outputs": [],
   "source": [
    "## 検索データ\n",
    "!cut -f 2 archive_search.txt  | python twitter_monthly_keywords_v2.py > twitter_search_result_feature_words.txt\n",
    "## Streamingデータ\n",
    "!cut -f 2 archive_streaming.txt  | python twitter_monthly_keywords_v2.py > twitter_streaming_result_feature_words.txt"
   ]
  },
  {
   "cell_type": "markdown",
   "id": "787c25da",
   "metadata": {},
   "source": [
    "### 日毎に感情成分を算出する"
   ]
  },
  {
   "cell_type": "code",
   "execution_count": null,
   "id": "74283a3a",
   "metadata": {},
   "outputs": [],
   "source": [
    "## 検索データ\n",
    "!cut -f 2 archive_search.txt  | python twitter_daily_emotions.py > twitter_search_result_emotion.txt\n",
    "\n",
    "## Streamingデータ\n",
    "!cut -f 2 archive_streaming.txt  | python twitter_daily_emotions.py > twitter_streaming_result_emotion.txt"
   ]
  }
 ],
 "metadata": {
  "kernelspec": {
   "display_name": "Python 3 (ipykernel)",
   "language": "python",
   "name": "python3"
  },
  "language_info": {
   "codemirror_mode": {
    "name": "ipython",
    "version": 3
   },
   "file_extension": ".py",
   "mimetype": "text/x-python",
   "name": "python",
   "nbconvert_exporter": "python",
   "pygments_lexer": "ipython3",
   "version": "3.9.10"
  },
  "toc-autonumbering": false,
  "toc-showcode": false,
  "toc-showmarkdowntxt": false,
  "toc-showtags": false
 },
 "nbformat": 4,
 "nbformat_minor": 5
}
