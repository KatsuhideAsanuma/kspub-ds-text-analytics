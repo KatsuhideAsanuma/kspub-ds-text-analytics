{
 "cells": [
  {
   "cell_type": "code",
   "execution_count": null,
   "id": "03311242-6073-4e18-81ab-0a0165a49f88",
   "metadata": {},
   "outputs": [],
   "source": [
    "!pip install openpyxl"
   ]
  },
  {
   "cell_type": "code",
   "execution_count": null,
   "id": "ce672ed5",
   "metadata": {},
   "outputs": [],
   "source": [
    "## Chapter04から使用するテキストデータをコピーする（事前にChapter04/Sentiment.ipynbを実行してください）\n",
    "!cp -r ../Chapter04/text ./\n",
    "!cp -r ../Chapter04/sisyou_db ./"
   ]
  },
  {
   "cell_type": "code",
   "execution_count": null,
   "id": "c1c19d5c-773d-45dd-9375-0d4d24f7694f",
   "metadata": {},
   "outputs": [],
   "source": [
    "import spacy\n",
    "from spacy.matcher import Matcher\n",
    "import pandas as pd\n",
    "\n",
    "nlp = spacy.load(\"ja_ginza\")\n",
    "matcher = Matcher(nlp.vocab)\n",
    "df = pd.read_excel(\"sisyou_db/sisyou_db_h29_01.xlsx\", skiprows=[1])\n",
    "df.head()"
   ]
  },
  {
   "cell_type": "code",
   "execution_count": null,
   "id": "34b81afa",
   "metadata": {},
   "outputs": [],
   "source": [
    "patterns = [[{\"POS\": \"NOUN\"}] * n for n in [2,3,4]]\n",
    "\n",
    "## GiNZA 5.0.X\n",
    "#for pattern in patterns:\n",
    "#    name = f'noun_phrase_{len(pattern)}'\n",
    "#    matcher.add(name, [pattern])\n",
    "\n",
    "## GiNZA 4.0.X\n",
    " for pattern in patterns:\n",
    "     name = f'noun_phrase_{len(pattern)}'\n",
    "     matcher.add(name, None, pattern)"
   ]
  },
  {
   "cell_type": "code",
   "execution_count": null,
   "id": "776f281b",
   "metadata": {},
   "outputs": [],
   "source": [
    "texts = [\n",
    "    \"工場内で、鉄骨階段（仮組）高さ2m50cmに手摺を仮組立作業中、足を滑らせて転倒し、顔面を強打して骨折し、右脇腹肋骨も骨折した。\",\n",
    "    \"倉庫の出入口の階段を荷物（冷凍商品15kgぐらい）を持って下りる際に、階段が凍っていて滑って転倒し、階段を転げ落ち（4段位）、持っていた荷物を足に落としてしまい、右足の腓骨を骨折した。\",\n",
    "    \"道路の3車線の真ん中を走行中、左車線に侵入してしまい、走行中の大型ワンボックスカーと衝突し、首と左肩を痛め、回転性のめまいで入院し、痺れもある。\"\n",
    "]\n",
    "\n",
    "for doc in nlp.pipe(texts):\n",
    "    print(doc.text)\n",
    "    for match_id, begin, end in matcher(doc):\n",
    "        print(nlp.vocab.strings[match_id], doc[begin:end])\n",
    "    print('='*80)"
   ]
  },
  {
   "cell_type": "code",
   "execution_count": null,
   "id": "4483a8ac",
   "metadata": {},
   "outputs": [],
   "source": [
    "from collections import Counter\n",
    "\n",
    "counter = Counter()\n",
    "for doc in nlp.pipe(df[\"災害状況\"]):\n",
    "    nps = [doc[begin:end].text for _, begin, end in matcher(doc)]\n",
    "    counter.update(nps)"
   ]
  },
  {
   "cell_type": "code",
   "execution_count": null,
   "id": "406f02ea",
   "metadata": {},
   "outputs": [],
   "source": [
    "print('count word')\n",
    "for word, count in counter.most_common(200):\n",
    "     print('{}\\t{}'.format(word,count))"
   ]
  }
 ],
 "metadata": {
  "interpreter": {
   "hash": "9fb4418224693d26334f9c00586f18858debbdac5b5c2b9e8ec64f44f6ad2406"
  },
  "kernelspec": {
   "display_name": "Python 3",
   "language": "python",
   "name": "python3"
  },
  "language_info": {
   "codemirror_mode": {
    "name": "ipython",
    "version": 3
   },
   "file_extension": ".py",
   "mimetype": "text/x-python",
   "name": "python",
   "nbconvert_exporter": "python",
   "pygments_lexer": "ipython3",
   "version": "3.9.7"
  }
 },
 "nbformat": 4,
 "nbformat_minor": 5
}
