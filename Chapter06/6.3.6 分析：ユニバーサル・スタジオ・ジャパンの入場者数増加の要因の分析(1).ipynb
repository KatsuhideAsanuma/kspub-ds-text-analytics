{
 "cells": [
  {
   "cell_type": "code",
   "execution_count": null,
   "metadata": {},
   "outputs": [],
   "source": [
    "import spacy\n",
    "import pandas as pd\n",
    "from collections import Counter"
   ]
  },
  {
   "cell_type": "code",
   "execution_count": null,
   "metadata": {},
   "outputs": [],
   "source": [
    "# 1. 口コミデータの読み込み\n",
    "df = pd.read_csv('text/usj.csv', encoding='utf-8',\n",
    "                 parse_dates=['旅行の時期'])\n",
    "\n",
    "# 口コミに含まれている空行を削除\n",
    "df['口コミ'] = df['口コミ'].replace('\\n+', '\\n', regex=True)\n",
    "\n",
    "# 旅行の時期が欠損している口コミを削除する\n",
    "df = df.dropna(subset=['旅行の時期'])\n",
    "\n",
    "# 旅行の時期を年度に直し，「年度」という項目を追加\n",
    "df['年度'] = df['旅行の時期'].apply(lambda x: x.year if x.month >= 4 else x.year-1)\n",
    "\n",
    "# 2. 2013年度までの口コミと2014年度からの口コミに分割\n",
    "df2013 = df[(df['年度'] >= 2011) & (df['年度'] <= 2013)]\n",
    "df2014 = df[(df['年度'] >= 2014) & (df['年度'] <= 2018)]"
   ]
  },
  {
   "cell_type": "code",
   "execution_count": null,
   "metadata": {},
   "outputs": [],
   "source": [
    "nlp = spacy.load(\"ja_ginza\")\n",
    "\n",
    "# 使用する単語の品詞とストップワードの指定\n",
    "include_pos = ('NOUN', 'PROPN')\n",
    "stopwords = ('こと', 'なし', 'ため', 'よう', 'ところ',\n",
    "             'もの', 'あと', 'さん', '以上', '以外')"
   ]
  },
  {
   "cell_type": "code",
   "execution_count": null,
   "metadata": {},
   "outputs": [],
   "source": [
    "# 3. 単語の頻度をカウントする関数を用意\n",
    "def count_words(df):\n",
    "    # 出現する単語をリストに追加\n",
    "    words = []\n",
    "    for doc in nlp.pipe(df[\"口コミ\"]):\n",
    "        words.extend([token.lemma_ for token in doc\n",
    "                      if token.pos_ in include_pos and\n",
    "                      token.lemma_ not in stopwords])\n",
    "\n",
    "    # 単語の頻度をカウント\n",
    "    counter = Counter(words)\n",
    "    return counter\n",
    "\n",
    "\n",
    "# 4. 2013年度までの口コミと2014年度からの口コミの単語の頻度をカウント\n",
    "counter2013 = count_words(df2013)   # 2013年度までの単語の頻度をカウント\n",
    "counter2014 = count_words(df2014)   # 2014年度からの単語の頻度をカウント"
   ]
  },
  {
   "cell_type": "code",
   "execution_count": null,
   "metadata": {},
   "outputs": [],
   "source": [
    "# 5. 単語の増加率を算出\n",
    "word2rate = Counter()                   # 単語と増加率を保存する辞書\n",
    "for word, count in counter2014.items():\n",
    "    if len(word) > 1 and count >= 100:\n",
    "        if word in counter2013:\n",
    "            rate = count / counter2013[word]\n",
    "            if rate >= 3.0:\n",
    "                word2rate[word] = round(rate, 1)\n",
    "        else:\n",
    "            # 2013年度までの口コミに単語が出現しない場合は増加率を1000.0としておく\n",
    "            word2rate[word] = 1000.0\n",
    "\n",
    "# 6. 単語の増加率を表示\n",
    "print('    rate word')\n",
    "for word, rate in word2rate.most_common():\n",
    "    print(f'{rate:>8} {word}')"
   ]
  },
  {
   "cell_type": "code",
   "execution_count": null,
   "metadata": {},
   "outputs": [],
   "source": []
  }
 ],
 "metadata": {
  "kernelspec": {
   "display_name": "Python 3",
   "language": "python",
   "name": "python3"
  },
  "language_info": {
   "codemirror_mode": {
    "name": "ipython",
    "version": 3
   },
   "file_extension": ".py",
   "mimetype": "text/x-python",
   "name": "python",
   "nbconvert_exporter": "python",
   "pygments_lexer": "ipython3",
   "version": "3.8.5"
  }
 },
 "nbformat": 4,
 "nbformat_minor": 4
}
