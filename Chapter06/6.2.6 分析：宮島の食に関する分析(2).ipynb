{
 "cells": [
  {
   "cell_type": "code",
   "execution_count": null,
   "metadata": {},
   "outputs": [],
   "source": [
    "#  count_food1.py\n",
    "\n",
    "from collections import Counter\n",
    "\n",
    "import spacy\n",
    "from spacy.pipeline import EntityRuler\n",
    "import pandas as pd\n",
    "\n",
    "# 1. 口コミデータの読み込み\n",
    "df = pd.read_csv('text/miyajima_sample.csv', encoding='utf-8',\n",
    "                 parse_dates=['旅行の時期'])\n",
    "\n",
    "nlp = spacy.load(\"ja_ginza\")"
   ]
  },
  {
   "cell_type": "code",
   "execution_count": null,
   "metadata": {},
   "outputs": [],
   "source": [
    "# 2. 固有表現抽出のルールを追加\n",
    "patterns = [\n",
    "    {\"label\": \"Dish\", \"pattern\": [\n",
    "        {\"TEXT\": \"あなご\"},\n",
    "        {\"TEXT\": {\"REGEX\": r\"飯|めし\"}},\n",
    "    ]},\n",
    "    {\"label\": \"Dish\", \"pattern\": \"揚げもみじ\"},\n",
    "    {\"label\": \"Dish\", \"pattern\": \"ガンス\"},\n",
    "    {\"label\": \"Dish\", \"pattern\": [\n",
    "        {\"TEXT\": \"にぎり\"},\n",
    "        {\"TEXT\": \"天\"}\n",
    "    ]}\n",
    "]\n",
    "\n",
    "ruler = EntityRuler(nlp, overwrite_ents=True)\n",
    "ruler.add_patterns(patterns)\n",
    "nlp.add_pipe(ruler,  before=\"ner\")"
   ]
  },
  {
   "cell_type": "code",
   "execution_count": null,
   "metadata": {},
   "outputs": [],
   "source": [
    "# 3. 食べ物に関する単語をリストに追加\n",
    "food = []\n",
    "for doc in nlp.pipe(df[\"口コミ\"]):\n",
    "    # 食べ物に関する固有表現を抽出\n",
    "    for ent in doc.ents:\n",
    "        if ent.label_ == \"Dish\" or ent.label_ == \"Food_other\":\n",
    "            food.append(ent.text)\n",
    "\n",
    "# 4. 食べ物に関する単語の頻度をカウント\n",
    "counter = Counter(food)\n",
    "\n",
    "# 5. 食べ物に関する単語の頻度を表示\n",
    "print('count word')\n",
    "for word, count in counter.most_common():\n",
    "    print(f'{count:>5} {word}')"
   ]
  },
  {
   "cell_type": "code",
   "execution_count": null,
   "metadata": {},
   "outputs": [],
   "source": []
  }
 ],
 "metadata": {
  "kernelspec": {
   "display_name": "Python 3",
   "language": "python",
   "name": "python3"
  },
  "language_info": {
   "codemirror_mode": {
    "name": "ipython",
    "version": 3
   },
   "file_extension": ".py",
   "mimetype": "text/x-python",
   "name": "python",
   "nbconvert_exporter": "python",
   "pygments_lexer": "ipython3",
   "version": "3.8.5"
  }
 },
 "nbformat": 4,
 "nbformat_minor": 4
}
