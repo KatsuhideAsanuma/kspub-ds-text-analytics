{
 "cells": [
  {
   "cell_type": "code",
   "execution_count": null,
   "metadata": {},
   "outputs": [],
   "source": [
    "# ext_advice.py\n",
    "\n",
    "import re\n",
    "\n",
    "import spacy\n",
    "import pandas as pd\n",
    "\n",
    "# 口コミデータの読み込み\n",
    "df = pd.read_csv('text/miyajima_sample.csv', encoding='utf-8',\n",
    "                 parse_dates=['旅行の時期'])\n",
    "\n",
    "nlp = spacy.load(\"ja_ginza\")\n",
    "\n",
    "print(\"●　「した方がよい」が含まれる文を抽出した結果\")\n",
    "for doc in nlp.pipe(df[\"口コミ\"]):\n",
    "    for sent in doc.sents:\n",
    "        sent = sent.text\n",
    "        if re.search(\"した方がよい\", sent):\n",
    "            print(sent)\n",
    "print(\"\\n\")\n",
    "\n",
    "print(\"●　「注意して」が含まれる文を抽出した結果\")\n",
    "for doc in nlp.pipe(df[\"口コミ\"]):\n",
    "    for sent in doc.sents:\n",
    "        sent = sent.text\n",
    "        if re.search(\"注意して\", sent):\n",
    "            print(sent)"
   ]
  },
  {
   "cell_type": "code",
   "execution_count": null,
   "metadata": {},
   "outputs": [],
   "source": []
  }
 ],
 "metadata": {
  "kernelspec": {
   "display_name": "Python 3",
   "language": "python",
   "name": "python3"
  },
  "language_info": {
   "codemirror_mode": {
    "name": "ipython",
    "version": 3
   },
   "file_extension": ".py",
   "mimetype": "text/x-python",
   "name": "python",
   "nbconvert_exporter": "python",
   "pygments_lexer": "ipython3",
   "version": "3.8.5"
  }
 },
 "nbformat": 4,
 "nbformat_minor": 4
}
