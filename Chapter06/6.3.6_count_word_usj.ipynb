{
 "cells": [
  {
   "cell_type": "code",
   "execution_count": 7,
   "metadata": {},
   "outputs": [],
   "source": [
    "# count_word_usj.py\n",
    "\n",
    "import spacy\n",
    "import pandas as pd\n",
    "from collections import Counter\n",
    "\n",
    "# 1. 口コミデータの読み込み\n",
    "df = pd.read_csv('text/usj.csv', encoding='utf-8',\n",
    "                 parse_dates=['旅行の時期'])\n",
    "\n",
    "# 口コミに含まれている空行を削除\n",
    "df['口コミ'] = df['口コミ'].replace('\\n+', '\\n', regex=True)\n",
    "\n",
    "# 旅行の時期が欠損している口コミを削除\n",
    "df = df.dropna(subset=['旅行の時期'])\n",
    "\n",
    "# 旅行の時期を年度に直し，「年度」という項目を追加\n",
    "df['年度'] = df['旅行の時期'].apply(lambda x: x.year if x.month >= 4 else x.year-1)"
   ]
  },
  {
   "cell_type": "code",
   "execution_count": 8,
   "metadata": {},
   "outputs": [],
   "source": [
    "nlp = spacy.load('ja_ginza')\n",
    "\n",
    "# 使用する単語の品詞とストップワードの指定\n",
    "include_pos = ('NOUN', 'PROPN')\n",
    "stopwords = ('こと', 'なし', 'ため', 'よう', 'ところ',\n",
    "             'もの', 'あと', 'さん', '以上', '以外')"
   ]
  },
  {
   "cell_type": "code",
   "execution_count": 9,
   "metadata": {},
   "outputs": [],
   "source": [
    "# 2. 単語の頻度をカウントする関数を用意\n",
    "def count_words(df):\n",
    "    # 出現する単語をリストに追加\n",
    "    words = []\n",
    "    for doc in nlp.pipe(df['口コミ']):\n",
    "        words.extend([token.lemma_ for token in doc\n",
    "                      if token.pos_ in include_pos and\n",
    "                      token.lemma_ not in stopwords])\n",
    "\n",
    "    # 単語の頻度をカウント\n",
    "    counter = Counter(words)\n",
    "    \n",
    "    return counter"
   ]
  },
  {
   "cell_type": "code",
   "execution_count": 10,
   "metadata": {},
   "outputs": [],
   "source": [
    "# 3. 年度ごとに口コミの単語の頻度をカウント\n",
    "year2counter = {}\n",
    "for y in range(2011, 2019):\n",
    "    year2counter[y] = count_words(df[df['年度'] == y])"
   ]
  },
  {
   "cell_type": "code",
   "execution_count": 11,
   "metadata": {},
   "outputs": [],
   "source": [
    "# 4. カウントする単語を登録した辞書を用意\n",
    "keywords = {'ハリーポッター': ['ハリーポッター', 'ハリポタ', 'ハリー'],\n",
    "            'ミニオン': ['ミニオン', 'ミニオンズ', 'ミニオンパーク'],\n",
    "            'フライングダイナソー': ['フライングダイナソー'],\n",
    "            'ハロウィン': ['ハロウィン', 'ハロウィーン', 'ハローウィン',\n",
    "                          'ハローイン', 'ハロイン'],\n",
    "            'クリスマス': ['クリスマス', 'Xmas']}"
   ]
  },
  {
   "cell_type": "code",
   "execution_count": 12,
   "metadata": {
    "scrolled": true
   },
   "outputs": [
    {
     "data": {
      "text/html": [
       "<div>\n",
       "<style scoped>\n",
       "    .dataframe tbody tr th:only-of-type {\n",
       "        vertical-align: middle;\n",
       "    }\n",
       "\n",
       "    .dataframe tbody tr th {\n",
       "        vertical-align: top;\n",
       "    }\n",
       "\n",
       "    .dataframe thead th {\n",
       "        text-align: right;\n",
       "    }\n",
       "</style>\n",
       "<table border=\"1\" class=\"dataframe\">\n",
       "  <thead>\n",
       "    <tr style=\"text-align: right;\">\n",
       "      <th></th>\n",
       "      <th>2011</th>\n",
       "      <th>2012</th>\n",
       "      <th>2013</th>\n",
       "      <th>2014</th>\n",
       "      <th>2015</th>\n",
       "      <th>2016</th>\n",
       "      <th>2017</th>\n",
       "      <th>2018</th>\n",
       "    </tr>\n",
       "    <tr>\n",
       "      <th>キーワード</th>\n",
       "      <th></th>\n",
       "      <th></th>\n",
       "      <th></th>\n",
       "      <th></th>\n",
       "      <th></th>\n",
       "      <th></th>\n",
       "      <th></th>\n",
       "      <th></th>\n",
       "    </tr>\n",
       "  </thead>\n",
       "  <tbody>\n",
       "    <tr>\n",
       "      <th>ハリーポッター</th>\n",
       "      <td>1</td>\n",
       "      <td>4</td>\n",
       "      <td>22</td>\n",
       "      <td>556</td>\n",
       "      <td>520</td>\n",
       "      <td>303</td>\n",
       "      <td>158</td>\n",
       "      <td>85</td>\n",
       "    </tr>\n",
       "    <tr>\n",
       "      <th>ミニオン</th>\n",
       "      <td>0</td>\n",
       "      <td>0</td>\n",
       "      <td>0</td>\n",
       "      <td>0</td>\n",
       "      <td>5</td>\n",
       "      <td>23</td>\n",
       "      <td>104</td>\n",
       "      <td>44</td>\n",
       "    </tr>\n",
       "    <tr>\n",
       "      <th>フライングダイナソー</th>\n",
       "      <td>0</td>\n",
       "      <td>0</td>\n",
       "      <td>0</td>\n",
       "      <td>0</td>\n",
       "      <td>4</td>\n",
       "      <td>76</td>\n",
       "      <td>24</td>\n",
       "      <td>20</td>\n",
       "    </tr>\n",
       "    <tr>\n",
       "      <th>ハロウィン</th>\n",
       "      <td>8</td>\n",
       "      <td>20</td>\n",
       "      <td>27</td>\n",
       "      <td>41</td>\n",
       "      <td>68</td>\n",
       "      <td>51</td>\n",
       "      <td>28</td>\n",
       "      <td>18</td>\n",
       "    </tr>\n",
       "    <tr>\n",
       "      <th>クリスマス</th>\n",
       "      <td>7</td>\n",
       "      <td>11</td>\n",
       "      <td>15</td>\n",
       "      <td>28</td>\n",
       "      <td>38</td>\n",
       "      <td>34</td>\n",
       "      <td>17</td>\n",
       "      <td>8</td>\n",
       "    </tr>\n",
       "  </tbody>\n",
       "</table>\n",
       "</div>"
      ],
      "text/plain": [
       "            2011  2012  2013  2014  2015  2016  2017  2018\n",
       "キーワード                                                     \n",
       "ハリーポッター        1     4    22   556   520   303   158    85\n",
       "ミニオン           0     0     0     0     5    23   104    44\n",
       "フライングダイナソー     0     0     0     0     4    76    24    20\n",
       "ハロウィン          8    20    27    41    68    51    28    18\n",
       "クリスマス          7    11    15    28    38    34    17     8"
      ]
     },
     "metadata": {},
     "output_type": "display_data"
    }
   ],
   "source": [
    "# 5. 年度ごとに単語の頻度を表示\n",
    "records = []\n",
    "for keyword, synonyms in keywords.items():\n",
    "    record = {'キーワード': keyword}  # キーワードごとの頻度をカウントする辞書\n",
    "    for y in range(2011, 2019):\n",
    "        count = sum([year2counter[y][s] for s in synonyms])\n",
    "        record[y] = count\n",
    "    records.append(record)\n",
    "\n",
    "df_res = pd.DataFrame(records)  # データフレームに変換\n",
    "df_res = df_res.set_index('キーワード')\n",
    "\n",
    "display(df_res)"
   ]
  },
  {
   "cell_type": "code",
   "execution_count": null,
   "metadata": {},
   "outputs": [],
   "source": []
  }
 ],
 "metadata": {
  "kernelspec": {
   "display_name": "Python 3",
   "language": "python",
   "name": "python3"
  },
  "language_info": {
   "codemirror_mode": {
    "name": "ipython",
    "version": 3
   },
   "file_extension": ".py",
   "mimetype": "text/x-python",
   "name": "python",
   "nbconvert_exporter": "python",
   "pygments_lexer": "ipython3",
   "version": "3.8.5"
  }
 },
 "nbformat": 4,
 "nbformat_minor": 4
}
