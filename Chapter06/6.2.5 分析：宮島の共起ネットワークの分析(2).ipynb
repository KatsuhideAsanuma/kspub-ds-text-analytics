{
 "cells": [
  {
   "cell_type": "code",
   "execution_count": null,
   "metadata": {},
   "outputs": [],
   "source": [
    "# ext_review.py\n",
    "\n",
    "import re\n",
    "\n",
    "import spacy\n",
    "import pandas as pd\n",
    "\n",
    "# 口コミデータの読み込み\n",
    "df = pd.read_csv('text/miyajima_sample.csv', encoding='utf-8',\n",
    "                 parse_dates=['旅行の時期'])\n",
    "\n",
    "nlp = spacy.load(\"ja_ginza\")\n",
    "\n",
    "# 「鳥居」と「残念」という単語が含まれている口コミを表示\n",
    "print(\"year\", \"review\")\n",
    "for doc in nlp.pipe(df[\"口コミ\"]):\n",
    "    for sent in doc.sents:\n",
    "        sent = sent.text\n",
    "        if re.search(\"鳥居\", sent) and re.search(\"残念\", sent):\n",
    "            date = df[df['口コミ'] == doc.text]['旅行の時期']\n",
    "            date = date.iloc[-1]\n",
    "            sent = re.sub(\"\\n\", \"\", sent)\n",
    "            print(date.year, sent)"
   ]
  },
  {
   "cell_type": "code",
   "execution_count": null,
   "metadata": {},
   "outputs": [],
   "source": []
  }
 ],
 "metadata": {
  "kernelspec": {
   "display_name": "Python 3",
   "language": "python",
   "name": "python3"
  },
  "language_info": {
   "codemirror_mode": {
    "name": "ipython",
    "version": 3
   },
   "file_extension": ".py",
   "mimetype": "text/x-python",
   "name": "python",
   "nbconvert_exporter": "python",
   "pygments_lexer": "ipython3",
   "version": "3.8.5"
  }
 },
 "nbformat": 4,
 "nbformat_minor": 4
}
