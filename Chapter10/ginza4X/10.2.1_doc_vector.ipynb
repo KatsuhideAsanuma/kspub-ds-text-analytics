{
 "cells": [
  {
   "cell_type": "code",
   "execution_count": null,
   "id": "6ad403d9",
   "metadata": {},
   "outputs": [],
   "source": [
    "## Chapter04から使用するテキストデータをコピーする（事前にChapter04/Sentiment.ipynbを実行してください）\n",
    "!cp -r ../../Chapter04/sisyou_db ./"
   ]
  },
  {
   "cell_type": "code",
   "execution_count": null,
   "id": "9dd65675",
   "metadata": {},
   "outputs": [],
   "source": [
    "import spacy\n",
    "import pandas as pd\n",
    "import numpy as np\n",
    "\n",
    "\n",
    "## モデルのロードとデータの読み込み\n",
    "nlp = spacy.load(\"ja_ginza\")\n",
    "df = pd.read_excel(\"sisyou_db/sisyou_db_h29_01.xlsx\", skiprows=[1])\n",
    "df.head()"
   ]
  },
  {
   "cell_type": "code",
   "execution_count": null,
   "id": "4df5346c",
   "metadata": {},
   "outputs": [],
   "source": [
    "## 文書ベクトルの表示\n",
    "text = df[\"災害状況\"][0]\n",
    "print(text)\n",
    "\n",
    "doc = nlp(text)\n",
    "print(doc.vector)"
   ]
  },
  {
   "cell_type": "code",
   "execution_count": null,
   "id": "a8c6ec05",
   "metadata": {},
   "outputs": [],
   "source": [
    "## 文書間類似度の算出\n",
    "texts = [\n",
    "    \"工場内で、鉄骨階段（仮組）高さ2m50cmに手摺を仮組立作業中、足を滑らせて転倒し、顔面を強打して骨折し、右脇腹肋骨も骨折した。\",\n",
    "    \"倉庫の出入口の階段を荷物（冷凍商品15kgぐらい）を持って下りる際に、階段が凍っていて滑って転倒し、階段を転げ落ち（4段位）、持っていた荷物を足に落としてしまい、右足の腓骨を骨折した。\",\n",
    "    \"道路の3車線の真ん中を走行中、左車線に侵入してしまい、走行中の大型ワンボックスカーと衝突し、首と左肩を痛め、回転性のめまいで入院し、痺れもある。\"\n",
    "]\n",
    "docs = list(nlp.pipe(texts))\n",
    "\n",
    "for i in range(len(docs)-1):\n",
    "    for j in range(i+1, len(docs)):\n",
    "        print(i, j, docs[i].similarity(docs[j]))"
   ]
  },
  {
   "cell_type": "code",
   "execution_count": null,
   "id": "132103c7",
   "metadata": {},
   "outputs": [],
   "source": [
    "## 文書間類似度行列の作成\n",
    "from sklearn.preprocessing import normalize\n",
    "\n",
    "vecs = [doc.vector for doc in nlp.pipe(df[\"災害状況\"])]\n",
    "X = np.array(vecs)\n",
    "X = normalize(X, axis=1, norm='l2')\n",
    "\n",
    "cos_sims = X @ X.T\n",
    "print(cos_sims)"
   ]
  },
  {
   "cell_type": "code",
   "execution_count": null,
   "id": "d2d55bba",
   "metadata": {},
   "outputs": [],
   "source": [
    "## 類似度行列を用いて類似文書検索\n",
    "target = 9\n",
    "print(target, df[\"災害状況\"][target])\n",
    "\n",
    "top_index = np.argsort(cos_sims[target])[::-1]\n",
    "print(df[\"災害状況\"][top_index][1:10]) #top_index[0]は入力文書"
   ]
  }
 ],
 "metadata": {
  "interpreter": {
   "hash": "9fb4418224693d26334f9c00586f18858debbdac5b5c2b9e8ec64f44f6ad2406"
  },
  "kernelspec": {
   "display_name": "Python 3",
   "language": "python",
   "name": "python3"
  },
  "language_info": {
   "codemirror_mode": {
    "name": "ipython",
    "version": 3
   },
   "file_extension": ".py",
   "mimetype": "text/x-python",
   "name": "python",
   "nbconvert_exporter": "python",
   "pygments_lexer": "ipython3",
   "version": "3.9.7"
  }
 },
 "nbformat": 4,
 "nbformat_minor": 5
}
