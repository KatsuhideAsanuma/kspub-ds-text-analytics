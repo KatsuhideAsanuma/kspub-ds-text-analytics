{
 "cells": [
  {
   "cell_type": "markdown",
   "id": "f5c1bcae-fcb8-4251-817f-8a39f3f8591d",
   "metadata": {
    "tags": []
   },
   "source": [
    "# ginzaの使い方"
   ]
  },
  {
   "cell_type": "markdown",
   "id": "c5442ad9-6a01-4815-bf1b-1db7661bb78d",
   "metadata": {
    "tags": []
   },
   "source": [
    "## パッケージのインストール"
   ]
  },
  {
   "cell_type": "code",
   "execution_count": 1,
   "id": "5f05ddff-01a2-47cd-8cae-3be310d28643",
   "metadata": {
    "tags": []
   },
   "outputs": [
    {
     "name": "stdout",
     "output_type": "stream",
     "text": [
      "Collecting SudachiPy==0.5.4\n",
      "  Using cached SudachiPy-0.5.4.tar.gz (86 kB)\n",
      "Collecting ginza==4.0.6\n",
      "  Downloading ginza-4.0.6.tar.gz (20 kB)\n",
      "Collecting ja-ginza==4.0.0\n",
      "  Downloading ja_ginza-4.0.0.tar.gz (51.5 MB)\n",
      "Collecting sklearn\n",
      "  Downloading sklearn-0.0.tar.gz (1.1 kB)\n",
      "Requirement already satisfied: pandas in c:\\users\\katsu\\appdata\\local\\programs\\python\\python39\\lib\\site-packages (1.4.3)\n",
      "Collecting sortedcontainers~=2.1.0\n",
      "  Downloading sortedcontainers-2.1.0-py2.py3-none-any.whl (28 kB)\n",
      "Collecting dartsclone~=0.9.0\n",
      "  Downloading dartsclone-0.9.0.tar.gz (17 kB)\n",
      "Collecting spacy<3.0.0,>=2.3.2\n",
      "  Downloading spacy-2.3.7-cp39-cp39-win_amd64.whl (9.4 MB)\n",
      "Collecting SudachiDict-core>=20200330\n",
      "  Downloading SudachiDict-core-20220729.tar.gz (9.1 kB)\n",
      "Collecting Cython\n",
      "  Using cached Cython-0.29.32-py2.py3-none-any.whl (986 kB)\n",
      "Collecting tqdm<5.0.0,>=4.38.0\n",
      "  Downloading tqdm-4.64.1-py2.py3-none-any.whl (78 kB)\n",
      "Collecting murmurhash<1.1.0,>=0.28.0\n"
     ]
    },
    {
     "name": "stderr",
     "output_type": "stream",
     "text": [
      "WARNING: Value for scheme.headers does not match. Please report this to <https://github.com/pypa/pip/issues/9617>\n",
      "distutils: c:\\users\\katsu\\appdata\\local\\programs\\python\\python39\\Include\\UNKNOWN\n",
      "sysconfig: c:\\users\\katsu\\appdata\\local\\programs\\python\\python39\\Include\n",
      "WARNING: Additional context:\n",
      "user = False\n",
      "home = None\n",
      "root = None\n",
      "prefix = None\n",
      "WARNING: Value for scheme.headers does not match. Please report this to <https://github.com/pypa/pip/issues/9617>\n",
      "distutils: c:\\users\\katsu\\appdata\\local\\programs\\python\\python39\\Include\\UNKNOWN\n",
      "sysconfig: c:\\users\\katsu\\appdata\\local\\programs\\python\\python39\\Include\n",
      "WARNING: Additional context:\n",
      "user = False\n",
      "home = None\n",
      "root = None\n",
      "prefix = None\n",
      "WARNING: You are using pip version 21.1; however, version 22.2.2 is available.\n",
      "You should consider upgrading via the 'c:\\users\\katsu\\appdata\\local\\programs\\python\\python39\\python.exe -m pip install --upgrade pip' command.\n"
     ]
    },
    {
     "name": "stdout",
     "output_type": "stream",
     "text": [
      "  Downloading murmurhash-1.0.8-cp39-cp39-win_amd64.whl (18 kB)\n",
      "Collecting wasabi<1.1.0,>=0.4.0\n",
      "  Downloading wasabi-0.10.1-py3-none-any.whl (26 kB)\n",
      "Collecting srsly<1.1.0,>=1.0.2\n",
      "  Downloading srsly-1.0.5-cp39-cp39-win_amd64.whl (177 kB)\n",
      "Collecting cymem<2.1.0,>=2.0.2\n",
      "  Downloading cymem-2.0.6-cp39-cp39-win_amd64.whl (36 kB)\n",
      "Requirement already satisfied: numpy>=1.15.0 in c:\\users\\katsu\\appdata\\local\\programs\\python\\python39\\lib\\site-packages (from spacy<3.0.0,>=2.3.2->ginza==4.0.6) (1.23.2)\n",
      "Collecting plac<1.2.0,>=0.9.6\n",
      "  Downloading plac-1.1.3-py2.py3-none-any.whl (20 kB)\n",
      "Collecting preshed<3.1.0,>=3.0.2\n",
      "  Downloading preshed-3.0.7-cp39-cp39-win_amd64.whl (96 kB)\n",
      "Requirement already satisfied: setuptools in c:\\users\\katsu\\appdata\\local\\programs\\python\\python39\\lib\\site-packages (from spacy<3.0.0,>=2.3.2->ginza==4.0.6) (49.2.1)\n",
      "Collecting thinc<7.5.0,>=7.4.1\n",
      "  Downloading thinc-7.4.5-cp39-cp39-win_amd64.whl (904 kB)\n",
      "Requirement already satisfied: requests<3.0.0,>=2.13.0 in c:\\users\\katsu\\appdata\\local\\programs\\python\\python39\\lib\\site-packages (from spacy<3.0.0,>=2.3.2->ginza==4.0.6) (2.25.1)\n",
      "Collecting blis<0.8.0,>=0.4.0\n",
      "  Downloading blis-0.7.8-cp39-cp39-win_amd64.whl (6.6 MB)\n",
      "Collecting catalogue<1.1.0,>=0.0.7\n",
      "  Downloading catalogue-1.0.0-py2.py3-none-any.whl (7.7 kB)\n",
      "Requirement already satisfied: certifi>=2017.4.17 in c:\\users\\katsu\\appdata\\local\\programs\\python\\python39\\lib\\site-packages (from requests<3.0.0,>=2.13.0->spacy<3.0.0,>=2.3.2->ginza==4.0.6) (2020.12.5)\n",
      "Requirement already satisfied: idna<3,>=2.5 in c:\\users\\katsu\\appdata\\local\\programs\\python\\python39\\lib\\site-packages (from requests<3.0.0,>=2.13.0->spacy<3.0.0,>=2.3.2->ginza==4.0.6) (2.10)\n",
      "Requirement already satisfied: urllib3<1.27,>=1.21.1 in c:\\users\\katsu\\appdata\\local\\programs\\python\\python39\\lib\\site-packages (from requests<3.0.0,>=2.13.0->spacy<3.0.0,>=2.3.2->ginza==4.0.6) (1.26.4)\n",
      "Requirement already satisfied: chardet<5,>=3.0.2 in c:\\users\\katsu\\appdata\\local\\programs\\python\\python39\\lib\\site-packages (from requests<3.0.0,>=2.13.0->spacy<3.0.0,>=2.3.2->ginza==4.0.6) (4.0.0)\n",
      "Requirement already satisfied: colorama in c:\\users\\katsu\\appdata\\local\\programs\\python\\python39\\lib\\site-packages (from tqdm<5.0.0,>=4.38.0->spacy<3.0.0,>=2.3.2->ginza==4.0.6) (0.4.4)\n",
      "Requirement already satisfied: scikit-learn in c:\\users\\katsu\\appdata\\local\\programs\\python\\python39\\lib\\site-packages (from sklearn) (1.1.2)\n",
      "Requirement already satisfied: python-dateutil>=2.8.1 in c:\\users\\katsu\\appdata\\local\\programs\\python\\python39\\lib\\site-packages (from pandas) (2.8.1)\n",
      "Requirement already satisfied: pytz>=2020.1 in c:\\users\\katsu\\appdata\\local\\programs\\python\\python39\\lib\\site-packages (from pandas) (2021.1)\n",
      "Requirement already satisfied: six>=1.5 in c:\\users\\katsu\\appdata\\local\\programs\\python\\python39\\lib\\site-packages (from python-dateutil>=2.8.1->pandas) (1.15.0)\n",
      "Requirement already satisfied: scipy>=1.3.2 in c:\\users\\katsu\\appdata\\local\\programs\\python\\python39\\lib\\site-packages (from scikit-learn->sklearn) (1.9.1)\n",
      "Requirement already satisfied: threadpoolctl>=2.0.0 in c:\\users\\katsu\\appdata\\local\\programs\\python\\python39\\lib\\site-packages (from scikit-learn->sklearn) (3.1.0)\n",
      "Requirement already satisfied: joblib>=1.0.0 in c:\\users\\katsu\\appdata\\local\\programs\\python\\python39\\lib\\site-packages (from scikit-learn->sklearn) (1.1.0)\n",
      "Building wheels for collected packages: SudachiPy, ginza, ja-ginza, dartsclone, SudachiDict-core, sklearn\n",
      "  Building wheel for SudachiPy (setup.py): started\n",
      "  Building wheel for SudachiPy (setup.py): finished with status 'done'\n",
      "  Created wheel for SudachiPy: filename=SudachiPy-0.5.4-cp39-cp39-win_amd64.whl size=265177 sha256=b8a4e67eb5f003c80ee33f91ea44df704c700aa3d22309da23390986dfbd619d\n",
      "  Stored in directory: c:\\users\\katsu\\appdata\\local\\pip\\cache\\wheels\\f4\\21\\92\\d3c914af0227e3faf483523a4e72537236c928459a595d0d54\n",
      "  Building wheel for ginza (setup.py): started\n",
      "  Building wheel for ginza (setup.py): finished with status 'done'\n",
      "  Created wheel for ginza: filename=ginza-4.0.6-py3-none-any.whl size=15793 sha256=5f3b3f34f9799409f2caf3b6e2601ae3497df47f54ea83de4a7cb7ab648e9571\n",
      "  Stored in directory: c:\\users\\katsu\\appdata\\local\\pip\\cache\\wheels\\e4\\77\\a4\\0d1290b1020056f1b17d7378e8edcd7e13b63206df87655892\n",
      "  Building wheel for ja-ginza (setup.py): started\n",
      "  Building wheel for ja-ginza (setup.py): finished with status 'done'\n",
      "  Created wheel for ja-ginza: filename=ja_ginza-4.0.0-py3-none-any.whl size=51530813 sha256=8c195b4ffc3dc52a1bebd8ae04a94e8d5f9a8e94c9f15fc6d0187b85b7f1b11b\n",
      "  Stored in directory: c:\\users\\katsu\\appdata\\local\\pip\\cache\\wheels\\10\\48\\42\\8082dda6c43b44ab7e62427d1d8f52e73289645f47a7b95bd4\n",
      "  Building wheel for dartsclone (setup.py): started\n",
      "  Building wheel for dartsclone (setup.py): finished with status 'done'\n",
      "  Created wheel for dartsclone: filename=dartsclone-0.9.0-cp39-cp39-win_amd64.whl size=89028 sha256=e1eb84ad75e8a9c9807cffae3142b49f696d872fc20c2a737fd9b122afaef2a9\n",
      "  Stored in directory: c:\\users\\katsu\\appdata\\local\\pip\\cache\\wheels\\86\\2e\\57\\0ce8c1e9cd6edea785f5ae8782af7dabdc2152db8b1b93b5f2\n",
      "  Building wheel for SudachiDict-core (setup.py): started\n",
      "  Building wheel for SudachiDict-core (setup.py): finished with status 'done'\n",
      "  Created wheel for SudachiDict-core: filename=SudachiDict_core-20220729-py3-none-any.whl size=71570366 sha256=231d7e34bd89b5f6d4fd96b8d25432a738bcf4d9c647f4118b532ec1f8837fbf\n",
      "  Stored in directory: c:\\users\\katsu\\appdata\\local\\pip\\cache\\wheels\\54\\a3\\41\\bd47a8d6d6e5321de9df0eebda05a9cf6e06456c72cd36353b\n",
      "  Building wheel for sklearn (setup.py): started\n",
      "  Building wheel for sklearn (setup.py): finished with status 'done'\n",
      "  Created wheel for sklearn: filename=sklearn-0.0-py2.py3-none-any.whl size=1316 sha256=0220f399ca985675ba2bac46993b47a5643ed8e2f7a3a2993c2d880c7262a940\n",
      "  Stored in directory: c:\\users\\katsu\\appdata\\local\\pip\\cache\\wheels\\e4\\7b\\98\\b6466d71b8d738a0c547008b9eb39bf8676d1ff6ca4b22af1c\n",
      "Successfully built SudachiPy ginza ja-ginza dartsclone SudachiDict-core sklearn\n",
      "Installing collected packages: murmurhash, cymem, wasabi, tqdm, srsly, preshed, plac, Cython, catalogue, blis, thinc, sortedcontainers, dartsclone, SudachiPy, spacy, SudachiDict-core, ja-ginza, sklearn, ginza\n",
      "Successfully installed Cython-0.29.32 SudachiDict-core-20220729 SudachiPy-0.5.4 blis-0.7.8 catalogue-1.0.0 cymem-2.0.6 dartsclone-0.9.0 ginza-4.0.6 ja-ginza-4.0.0 murmurhash-1.0.8 plac-1.1.3 preshed-3.0.7 sklearn-0.0 sortedcontainers-2.1.0 spacy-2.3.7 srsly-1.0.5 thinc-7.4.5 tqdm-4.64.1 wasabi-0.10.1\n"
     ]
    }
   ],
   "source": [
    "!pip install SudachiPy==0.5.4 ginza==4.0.6 ja-ginza==4.0.0 sklearn pandas"
   ]
  },
  {
   "cell_type": "markdown",
   "id": "50c8f45f-49ba-45f5-8ea8-97e781db00f5",
   "metadata": {
    "tags": []
   },
   "source": [
    "## 解析対象データをダウンロード"
   ]
  },
  {
   "cell_type": "markdown",
   "id": "15b55e82-a745-4f4b-95d7-31461a4acd54",
   "metadata": {
    "tags": []
   },
   "source": [
    "江戸川乱歩作「影男」を青空文庫からダウンロードし，textディレクトリに配置．"
   ]
  },
  {
   "cell_type": "code",
   "execution_count": 3,
   "id": "502a8bd8-2873-4416-bccf-c513554c0e14",
   "metadata": {
    "tags": []
   },
   "outputs": [
    {
     "name": "stderr",
     "output_type": "stream",
     "text": [
      "'unzip' �́A�����R�}���h�܂��͊O���R�}���h�A\n",
      "����\\�ȃv���O�����܂��̓o�b�` �t�@�C���Ƃ��ĔF������Ă��܂���B\n",
      "'rm' �́A�����R�}���h�܂��͊O���R�}���h�A\n",
      "����\\�ȃv���O�����܂��̓o�b�` �t�@�C���Ƃ��ĔF������Ă��܂���B\n"
     ]
    }
   ],
   "source": [
    "#!wget -c https://www.aozora.gr.jp/cards/001779/files/58486_ruby_68458.zip\n",
    "#!mkdir -p text\n",
    "!unzip -d text -o 58486_ruby_68458.zip\n",
    "!rm -f 58486_ruby_68458.zip"
   ]
  },
  {
   "cell_type": "markdown",
   "id": "6fa255a6-714c-410f-a2ad-1bf07dbe3582",
   "metadata": {
    "tags": []
   },
   "source": [
    "《》や［］で囲まれるルビを除去する．"
   ]
  },
  {
   "cell_type": "code",
   "execution_count": 4,
   "id": "6b306af3-00ca-4319-8417-a9d726b0614d",
   "metadata": {
    "tags": []
   },
   "outputs": [],
   "source": [
    "import re\n",
    "\n",
    "input_fn = 'text/kageotoko.txt'\n",
    "output_fn = 'text/kageotoko.stripruby.txt'\n",
    "\n",
    "with open(input_fn, encoding='shift-jis') as fin, open(output_fn, mode='w') as fout:\n",
    "    for line in fin:\n",
    "        fout.write(re.sub(r'《[^》]+》|［[^］]+］', '', line))"
   ]
  },
  {
   "cell_type": "markdown",
   "id": "9c807ff6-2278-42b7-ad4b-a3db5b7eb9ec",
   "metadata": {},
   "source": [
    "青空文庫の注釈である冒頭18行と末尾14行を削除[<sup>1</sup>](#id1)．"
   ]
  },
  {
   "cell_type": "code",
   "execution_count": 5,
   "id": "806400ec-fd08-4df5-88f7-c3182373995b",
   "metadata": {},
   "outputs": [
    {
     "name": "stderr",
     "output_type": "stream",
     "text": [
      "'tail' �́A�����R�}���h�܂��͊O���R�}���h�A\n",
      "����\\�ȃv���O�����܂��̓o�b�` �t�@�C���Ƃ��ĔF������Ă��܂���B\n",
      "'head' �́A�����R�}���h�܂��͊O���R�}���h�A\n",
      "����\\�ȃv���O�����܂��̓o�b�` �t�@�C���Ƃ��ĔF������Ă��܂���B\n"
     ]
    }
   ],
   "source": [
    "!tail -n +18 text/kageotoko.stripruby.txt | head -n -14 > text/kageotoko.corpus.txt\n",
    "!head text/kageotoko.corpus.txt"
   ]
  },
  {
   "cell_type": "markdown",
   "id": "aea0174e-cba3-4f09-95eb-f331b5af15ff",
   "metadata": {
    "jp-MarkdownHeadingCollapsed": true,
    "tags": []
   },
   "source": [
    "## 注釈\n",
    "<sup>1</sup> <span id=id1>注釈の分量は作品によって異なるので，削除すべき箇所の分量は手作業で確認が必要．</span> <br/>"
   ]
  }
 ],
 "metadata": {
  "kernelspec": {
   "display_name": "Python 3.9.4 64-bit",
   "language": "python",
   "name": "python3"
  },
  "language_info": {
   "codemirror_mode": {
    "name": "ipython",
    "version": 3
   },
   "file_extension": ".py",
   "mimetype": "text/x-python",
   "name": "python",
   "nbconvert_exporter": "python",
   "pygments_lexer": "ipython3",
   "version": "3.9.4"
  },
  "toc-autonumbering": false,
  "toc-showcode": false,
  "toc-showmarkdowntxt": false,
  "toc-showtags": false,
  "vscode": {
   "interpreter": {
    "hash": "25ce21f62559348607c4913fcc64f108901b78d5a1e5109915346e4d210f89da"
   }
  }
 },
 "nbformat": 4,
 "nbformat_minor": 5
}
