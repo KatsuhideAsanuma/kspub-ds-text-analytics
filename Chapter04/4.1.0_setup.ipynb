{
 "cells": [
  {
   "cell_type": "markdown",
   "id": "f5c1bcae-fcb8-4251-817f-8a39f3f8591d",
   "metadata": {
    "tags": []
   },
   "source": [
    "# ginzaの使い方"
   ]
  },
  {
   "cell_type": "markdown",
   "id": "c5442ad9-6a01-4815-bf1b-1db7661bb78d",
   "metadata": {
    "tags": []
   },
   "source": [
    "## パッケージのインストール"
   ]
  },
  {
   "cell_type": "code",
   "execution_count": null,
   "id": "5f05ddff-01a2-47cd-8cae-3be310d28643",
   "metadata": {
    "tags": []
   },
   "outputs": [],
   "source": [
    "!pip install ginza ja-ginza sklearn pandas"
   ]
  },
  {
   "cell_type": "markdown",
   "id": "50c8f45f-49ba-45f5-8ea8-97e781db00f5",
   "metadata": {
    "tags": []
   },
   "source": [
    "## 解析対象データをダウンロード"
   ]
  },
  {
   "cell_type": "markdown",
   "id": "15b55e82-a745-4f4b-95d7-31461a4acd54",
   "metadata": {
    "tags": []
   },
   "source": [
    "江戸川乱歩作「影男」を青空文庫からダウンロードし，textディレクトリに配置．"
   ]
  },
  {
   "cell_type": "code",
   "execution_count": null,
   "id": "502a8bd8-2873-4416-bccf-c513554c0e14",
   "metadata": {
    "tags": []
   },
   "outputs": [],
   "source": [
    "!wget -c https://www.aozora.gr.jp/cards/001779/files/58486_ruby_68458.zip\n",
    "!mkdir -p text\n",
    "!unzip -d text -o 58486_ruby_68458.zip\n",
    "!rm -f 58486_ruby_68458.zip"
   ]
  },
  {
   "cell_type": "markdown",
   "id": "6fa255a6-714c-410f-a2ad-1bf07dbe3582",
   "metadata": {
    "tags": []
   },
   "source": [
    "《》や［］で囲まれるルビを除去する．"
   ]
  },
  {
   "cell_type": "code",
   "execution_count": null,
   "id": "6b306af3-00ca-4319-8417-a9d726b0614d",
   "metadata": {
    "tags": []
   },
   "outputs": [],
   "source": [
    "import re\n",
    "\n",
    "input_fn = 'text/kageotoko.txt'\n",
    "output_fn = 'text/kageotoko.stripruby.txt'\n",
    "\n",
    "with open(input_fn, encoding='shift-jis') as fin, open(output_fn, mode='w') as fout:\n",
    "    for line in fin:\n",
    "        fout.write(re.sub(r'《[^》]+》|［[^］]+］', '', line))"
   ]
  },
  {
   "cell_type": "markdown",
   "id": "9c807ff6-2278-42b7-ad4b-a3db5b7eb9ec",
   "metadata": {},
   "source": [
    "青空文庫の注釈である冒頭18行と末尾14行を削除[<sup>1</sup>](#id1)．"
   ]
  },
  {
   "cell_type": "code",
   "execution_count": null,
   "id": "806400ec-fd08-4df5-88f7-c3182373995b",
   "metadata": {},
   "outputs": [],
   "source": [
    "!tail -n +18 text/kageotoko.stripruby.txt | head -n -14 > text/kageotoko.corpus.txt\n",
    "!head text/kageotoko.corpus.txt"
   ]
  },
  {
   "cell_type": "markdown",
   "id": "aea0174e-cba3-4f09-95eb-f331b5af15ff",
   "metadata": {
    "jp-MarkdownHeadingCollapsed": true,
    "tags": []
   },
   "source": [
    "## 注釈\n",
    "<sup>1</sup> <span id=id1>注釈の分量は作品によって異なるので，削除すべき箇所の分量は手作業で確認が必要．</span> <br/>"
   ]
  }
 ],
 "metadata": {
  "kernelspec": {
   "display_name": "Python 3 (ipykernel)",
   "language": "python",
   "name": "python3"
  },
  "language_info": {
   "codemirror_mode": {
    "name": "ipython",
    "version": 3
   },
   "file_extension": ".py",
   "mimetype": "text/x-python",
   "name": "python",
   "nbconvert_exporter": "python",
   "pygments_lexer": "ipython3",
   "version": "3.9.7"
  },
  "toc-autonumbering": false,
  "toc-showcode": false,
  "toc-showmarkdowntxt": false,
  "toc-showtags": false
 },
 "nbformat": 4,
 "nbformat_minor": 5
}
