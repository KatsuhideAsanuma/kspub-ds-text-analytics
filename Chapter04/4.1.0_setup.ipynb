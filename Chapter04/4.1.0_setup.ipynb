{
 "cells": [
  {
   "cell_type": "markdown",
   "id": "f5c1bcae-fcb8-4251-817f-8a39f3f8591d",
   "metadata": {
    "tags": []
   },
   "source": [
    "# ginzaの使い方"
   ]
  },
  {
   "cell_type": "markdown",
   "id": "c5442ad9-6a01-4815-bf1b-1db7661bb78d",
   "metadata": {
    "tags": []
   },
   "source": [
    "## パッケージのインストール"
   ]
  },
  {
   "cell_type": "code",
   "execution_count": 1,
   "id": "5f05ddff-01a2-47cd-8cae-3be310d28643",
   "metadata": {
    "tags": []
   },
   "outputs": [
    {
     "name": "stdout",
     "output_type": "stream",
     "text": [
      "Collecting SudachiPy==0.5.4\n",
      "  Downloading SudachiPy-0.5.4-cp38-cp38-win_amd64.whl (265 kB)\n",
      "Collecting ginza==4.0.6\n",
      "  Downloading ginza-4.0.6.tar.gz (20 kB)\n",
      "Collecting ja-ginza==4.0.0\n",
      "  Downloading ja_ginza-4.0.0.tar.gz (51.5 MB)\n",
      "Collecting sklearn\n",
      "  Downloading sklearn-0.0.tar.gz (1.1 kB)\n",
      "Requirement already satisfied: pandas in c:\\users\\asanumakatsuhidefmve\\anaconda3\\lib\\site-packages (1.1.3)\n",
      "Collecting sortedcontainers~=2.1.0\n",
      "  Downloading sortedcontainers-2.1.0-py2.py3-none-any.whl (28 kB)\n",
      "Collecting dartsclone~=0.9.0\n",
      "  Downloading dartsclone-0.9.0-cp38-cp38-win_amd64.whl (99 kB)\n",
      "Collecting spacy<3.0.0,>=2.3.2\n",
      "  Downloading spacy-2.3.7-cp38-cp38-win_amd64.whl (9.7 MB)\n",
      "Collecting SudachiDict-core>=20200330\n",
      "  Downloading SudachiDict-core-20220729.tar.gz (9.1 kB)\n",
      "Requirement already satisfied: scikit-learn in c:\\users\\asanumakatsuhidefmve\\anaconda3\\lib\\site-packages (from sklearn) (0.23.2)\n",
      "Requirement already satisfied: python-dateutil>=2.7.3 in c:\\users\\asanumakatsuhidefmve\\anaconda3\\lib\\site-packages (from pandas) (2.8.1)\n",
      "Requirement already satisfied: pytz>=2017.2 in c:\\users\\asanumakatsuhidefmve\\anaconda3\\lib\\site-packages (from pandas) (2020.1)\n",
      "Requirement already satisfied: numpy>=1.15.4 in c:\\users\\asanumakatsuhidefmve\\anaconda3\\lib\\site-packages (from pandas) (1.19.2)\n",
      "Requirement already satisfied: Cython in c:\\users\\asanumakatsuhidefmve\\anaconda3\\lib\\site-packages (from dartsclone~=0.9.0->SudachiPy==0.5.4) (0.29.21)\n",
      "Collecting preshed<3.1.0,>=3.0.2\n",
      "  Downloading preshed-3.0.7-cp38-cp38-win_amd64.whl (96 kB)\n",
      "Collecting plac<1.2.0,>=0.9.6\n",
      "  Downloading plac-1.1.3-py2.py3-none-any.whl (20 kB)\n",
      "Collecting srsly<1.1.0,>=1.0.2\n",
      "  Downloading srsly-1.0.5-cp38-cp38-win_amd64.whl (178 kB)\n",
      "Collecting murmurhash<1.1.0,>=0.28.0\n",
      "  Downloading murmurhash-1.0.8-cp38-cp38-win_amd64.whl (18 kB)\n",
      "Requirement already satisfied: tqdm<5.0.0,>=4.38.0 in c:\\users\\asanumakatsuhidefmve\\anaconda3\\lib\\site-packages (from spacy<3.0.0,>=2.3.2->ginza==4.0.6) (4.50.2)\n",
      "Collecting cymem<2.1.0,>=2.0.2\n",
      "  Downloading cymem-2.0.6-cp38-cp38-win_amd64.whl (36 kB)\n",
      "Collecting blis<0.8.0,>=0.4.0\n",
      "  Downloading blis-0.7.8-cp38-cp38-win_amd64.whl (6.6 MB)\n",
      "Collecting wasabi<1.1.0,>=0.4.0\n",
      "  Downloading wasabi-0.10.1-py3-none-any.whl (26 kB)\n",
      "Collecting thinc<7.5.0,>=7.4.1\n",
      "  Downloading thinc-7.4.5-cp38-cp38-win_amd64.whl (910 kB)\n",
      "Requirement already satisfied: requests<3.0.0,>=2.13.0 in c:\\users\\asanumakatsuhidefmve\\anaconda3\\lib\\site-packages (from spacy<3.0.0,>=2.3.2->ginza==4.0.6) (2.24.0)\n",
      "Collecting catalogue<1.1.0,>=0.0.7\n",
      "  Downloading catalogue-1.0.0-py2.py3-none-any.whl (7.7 kB)\n",
      "Requirement already satisfied: setuptools in c:\\users\\asanumakatsuhidefmve\\anaconda3\\lib\\site-packages (from spacy<3.0.0,>=2.3.2->ginza==4.0.6) (50.3.1.post20201107)\n",
      "Requirement already satisfied: scipy>=0.19.1 in c:\\users\\asanumakatsuhidefmve\\anaconda3\\lib\\site-packages (from scikit-learn->sklearn) (1.5.2)\n",
      "Requirement already satisfied: joblib>=0.11 in c:\\users\\asanumakatsuhidefmve\\anaconda3\\lib\\site-packages (from scikit-learn->sklearn) (0.17.0)\n",
      "Requirement already satisfied: threadpoolctl>=2.0.0 in c:\\users\\asanumakatsuhidefmve\\anaconda3\\lib\\site-packages (from scikit-learn->sklearn) (2.1.0)\n",
      "Requirement already satisfied: six>=1.5 in c:\\users\\asanumakatsuhidefmve\\anaconda3\\lib\\site-packages (from python-dateutil>=2.7.3->pandas) (1.15.0)\n",
      "Requirement already satisfied: chardet<4,>=3.0.2 in c:\\users\\asanumakatsuhidefmve\\anaconda3\\lib\\site-packages (from requests<3.0.0,>=2.13.0->spacy<3.0.0,>=2.3.2->ginza==4.0.6) (3.0.4)\n",
      "Requirement already satisfied: certifi>=2017.4.17 in c:\\users\\asanumakatsuhidefmve\\anaconda3\\lib\\site-packages (from requests<3.0.0,>=2.13.0->spacy<3.0.0,>=2.3.2->ginza==4.0.6) (2020.6.20)\n",
      "Requirement already satisfied: idna<3,>=2.5 in c:\\users\\asanumakatsuhidefmve\\anaconda3\\lib\\site-packages (from requests<3.0.0,>=2.13.0->spacy<3.0.0,>=2.3.2->ginza==4.0.6) (2.10)\n",
      "Requirement already satisfied: urllib3!=1.25.0,!=1.25.1,<1.26,>=1.21.1 in c:\\users\\asanumakatsuhidefmve\\anaconda3\\lib\\site-packages (from requests<3.0.0,>=2.13.0->spacy<3.0.0,>=2.3.2->ginza==4.0.6) (1.25.11)\n",
      "Building wheels for collected packages: ginza, ja-ginza, sklearn, SudachiDict-core\n",
      "  Building wheel for ginza (setup.py): started\n",
      "  Building wheel for ginza (setup.py): finished with status 'done'\n",
      "  Created wheel for ginza: filename=ginza-4.0.6-py3-none-any.whl size=15797 sha256=fc982077fde7b69a5011c266a914e27b184fc9cdfcb6f1b107ebf64f68babaab\n",
      "  Stored in directory: c:\\users\\asanumakatsuhidefmve\\appdata\\local\\pip\\cache\\wheels\\a4\\d9\\8a\\8a88eaed30c21caa6cefb383d7f129ae04e43411e62cfb35b9\n",
      "  Building wheel for ja-ginza (setup.py): started\n",
      "  Building wheel for ja-ginza (setup.py): finished with status 'done'\n",
      "  Created wheel for ja-ginza: filename=ja_ginza-4.0.0-py3-none-any.whl size=51530818 sha256=8db9297ea60fe131790e08a84e581834ca7b4f22336326c2a1785aa43f01a472\n",
      "  Stored in directory: c:\\users\\asanumakatsuhidefmve\\appdata\\local\\pip\\cache\\wheels\\5c\\51\\b5\\6e6a3f0fc1175b72ce6a4ddc7617cf5e39ccea12f040b966d2\n",
      "  Building wheel for sklearn (setup.py): started\n",
      "  Building wheel for sklearn (setup.py): finished with status 'done'\n",
      "  Created wheel for sklearn: filename=sklearn-0.0-py2.py3-none-any.whl size=1321 sha256=43f915b37e26692510a606c4d73090fa374ad00de1e5fa1bb66ab4016cd9295c\n",
      "  Stored in directory: c:\\users\\asanumakatsuhidefmve\\appdata\\local\\pip\\cache\\wheels\\22\\0b\\40\\fd3f795caaa1fb4c6cb738bc1f56100be1e57da95849bfc897\n",
      "  Building wheel for SudachiDict-core (setup.py): started\n",
      "  Building wheel for SudachiDict-core (setup.py): finished with status 'done'\n",
      "  Created wheel for SudachiDict-core: filename=SudachiDict_core-20220729-py3-none-any.whl size=71570370 sha256=3b9a57c18416dccd2ccfacf2806c4d4c8ec214b1f199f665c99f623709b4b55c\n",
      "  Stored in directory: c:\\users\\asanumakatsuhidefmve\\appdata\\local\\pip\\cache\\wheels\\ff\\92\\4e\\107e978825342d075dfb545dd8bdbb77cbaa40758260f075e8\n",
      "Successfully built ginza ja-ginza sklearn SudachiDict-core\n",
      "Installing collected packages: sortedcontainers, dartsclone, SudachiPy, murmurhash, cymem, preshed, plac, srsly, blis, wasabi, catalogue, thinc, spacy, ja-ginza, SudachiDict-core, ginza, sklearn\n",
      "  Attempting uninstall: sortedcontainers\n",
      "    Found existing installation: sortedcontainers 2.2.2\n",
      "    Uninstalling sortedcontainers-2.2.2:\n",
      "      Successfully uninstalled sortedcontainers-2.2.2\n",
      "Successfully installed SudachiDict-core-20220729 SudachiPy-0.5.4 blis-0.7.8 catalogue-1.0.0 cymem-2.0.6 dartsclone-0.9.0 ginza-4.0.6 ja-ginza-4.0.0 murmurhash-1.0.8 plac-1.1.3 preshed-3.0.7 sklearn-0.0 sortedcontainers-2.1.0 spacy-2.3.7 srsly-1.0.5 thinc-7.4.5 wasabi-0.10.1\n"
     ]
    }
   ],
   "source": [
    "!pip install SudachiPy==0.5.4 ginza==4.0.6 ja-ginza==4.0.0 sklearn pandas"
   ]
  },
  {
   "cell_type": "markdown",
   "id": "50c8f45f-49ba-45f5-8ea8-97e781db00f5",
   "metadata": {
    "tags": []
   },
   "source": [
    "## 解析対象データをダウンロード"
   ]
  },
  {
   "cell_type": "markdown",
   "id": "15b55e82-a745-4f4b-95d7-31461a4acd54",
   "metadata": {
    "tags": []
   },
   "source": [
    "江戸川乱歩作「影男」を青空文庫からダウンロードし，textディレクトリに配置．"
   ]
  },
  {
   "cell_type": "code",
   "execution_count": 3,
   "id": "502a8bd8-2873-4416-bccf-c513554c0e14",
   "metadata": {
    "tags": []
   },
   "outputs": [
    {
     "name": "stderr",
     "output_type": "stream",
     "text": [
      "'unzip' �́A�����R�}���h�܂��͊O���R�}���h�A\n",
      "����\\�ȃv���O�����܂��̓o�b�` �t�@�C���Ƃ��ĔF������Ă��܂���B\n",
      "'rm' �́A�����R�}���h�܂��͊O���R�}���h�A\n",
      "����\\�ȃv���O�����܂��̓o�b�` �t�@�C���Ƃ��ĔF������Ă��܂���B\n"
     ]
    }
   ],
   "source": [
    "#!wget -c https://www.aozora.gr.jp/cards/001779/files/58486_ruby_68458.zip\n",
    "#!mkdir -p text\n",
    "!unzip -d text -o 58486_ruby_68458.zip\n",
    "!rm -f 58486_ruby_68458.zip"
   ]
  },
  {
   "cell_type": "markdown",
   "id": "6fa255a6-714c-410f-a2ad-1bf07dbe3582",
   "metadata": {
    "tags": []
   },
   "source": [
    "《》や［］で囲まれるルビを除去する．"
   ]
  },
  {
   "cell_type": "code",
   "execution_count": 4,
   "id": "6b306af3-00ca-4319-8417-a9d726b0614d",
   "metadata": {
    "tags": []
   },
   "outputs": [],
   "source": [
    "import re\n",
    "\n",
    "input_fn = 'text/kageotoko.txt'\n",
    "output_fn = 'text/kageotoko.stripruby.txt'\n",
    "\n",
    "with open(input_fn, encoding='shift-jis') as fin, open(output_fn, mode='w') as fout:\n",
    "    for line in fin:\n",
    "        fout.write(re.sub(r'《[^》]+》|［[^］]+］', '', line))"
   ]
  },
  {
   "cell_type": "markdown",
   "id": "9c807ff6-2278-42b7-ad4b-a3db5b7eb9ec",
   "metadata": {},
   "source": [
    "青空文庫の注釈である冒頭18行と末尾14行を削除[<sup>1</sup>](#id1)．"
   ]
  },
  {
   "cell_type": "code",
   "execution_count": 5,
   "id": "806400ec-fd08-4df5-88f7-c3182373995b",
   "metadata": {},
   "outputs": [
    {
     "name": "stderr",
     "output_type": "stream",
     "text": [
      "'tail' �́A�����R�}���h�܂��͊O���R�}���h�A\n",
      "����\\�ȃv���O�����܂��̓o�b�` �t�@�C���Ƃ��ĔF������Ă��܂���B\n",
      "'head' �́A�����R�}���h�܂��͊O���R�}���h�A\n",
      "����\\�ȃv���O�����܂��̓o�b�` �t�@�C���Ƃ��ĔF������Ă��܂���B\n"
     ]
    }
   ],
   "source": [
    "!tail -n +18 text/kageotoko.stripruby.txt | head -n -14 > text/kageotoko.corpus.txt\n",
    "!head text/kageotoko.corpus.txt"
   ]
  },
  {
   "cell_type": "markdown",
   "id": "aea0174e-cba3-4f09-95eb-f331b5af15ff",
   "metadata": {
    "jp-MarkdownHeadingCollapsed": true,
    "tags": []
   },
   "source": [
    "## 注釈\n",
    "<sup>1</sup> <span id=id1>注釈の分量は作品によって異なるので，削除すべき箇所の分量は手作業で確認が必要．</span> <br/>"
   ]
  }
 ],
 "metadata": {
  "kernelspec": {
   "display_name": "Python 3.8.5 ('base')",
   "language": "python",
   "name": "python3"
  },
  "language_info": {
   "codemirror_mode": {
    "name": "ipython",
    "version": 3
   },
   "file_extension": ".py",
   "mimetype": "text/x-python",
   "name": "python",
   "nbconvert_exporter": "python",
   "pygments_lexer": "ipython3",
   "version": "3.8.5"
  },
  "toc-autonumbering": false,
  "toc-showcode": false,
  "toc-showmarkdowntxt": false,
  "toc-showtags": false,
  "vscode": {
   "interpreter": {
    "hash": "f56fb4d6563de25450f85094f1dafb51c2bab9290a6a987d2d5bf20ee170bb01"
   }
  }
 },
 "nbformat": 4,
 "nbformat_minor": 5
}
