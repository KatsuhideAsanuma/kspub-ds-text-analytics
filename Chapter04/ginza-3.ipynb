{
 "cells": [
  {
   "cell_type": "markdown",
   "id": "f5c1bcae-fcb8-4251-817f-8a39f3f8591d",
   "metadata": {
    "tags": []
   },
   "source": [
    "# ginzaの使い方"
   ]
  },
  {
   "cell_type": "markdown",
   "id": "b753c3c3-f056-4bba-b322-a498baca6de8",
   "metadata": {
    "tags": []
   },
   "source": [
    "## 係り受け"
   ]
  },
  {
   "cell_type": "markdown",
   "id": "4edb4af4-b866-446f-92e7-73b1927c3751",
   "metadata": {
    "tags": []
   },
   "source": [
    "修飾関係を調べることもできる．spacyは，Universal Dependencyという多言語解析技術を用いたもので，細部の単語間の修飾関係から全体の係り受け構造を求めていく方法で．係り受けの関係も種類で区別される．"
   ]
  },
  {
   "cell_type": "code",
   "execution_count": null,
   "id": "f4ad30a9-54c3-42ec-b606-aa92276b73ea",
   "metadata": {},
   "outputs": [],
   "source": [
    "import pandas as pd\n",
    "import spacy\n",
    "\n",
    "nlp = spacy.load('ja_ginza')\n",
    "text = \"昨日の天気は雨でした。晴れてほしかった。\""
   ]
  },
  {
   "cell_type": "markdown",
   "id": "606eeaf6-bb1c-4dcb-9230-26f6d775b1d3",
   "metadata": {},
   "source": [
    "受ける語のリストが，係る語のchildren属性に格納．\n",
    "また，係る語からの係り受け種類がdep_属性に格納．\n",
    "case,cop,auxが文節内の係り受けに，nmod,nsubjが文節間の係り受けになっている．"
   ]
  },
  {
   "cell_type": "code",
   "execution_count": null,
   "id": "1106e73c-a646-4ee0-975d-6696bdc838b5",
   "metadata": {},
   "outputs": [],
   "source": [
    "doc = nlp(text)\n",
    "\n",
    "df = pd.DataFrame({\n",
    "    'text': token.text,\n",
    "    'lemma_': token.lemma_,\n",
    "    'pos_': token.pos_,\n",
    "    'tag_': token.tag_,\n",
    "    'dep_': token.dep_,\n",
    "    'children': list(token.children)\n",
    "    } for token in doc)\n",
    "\n",
    "display(df)"
   ]
  },
  {
   "cell_type": "code",
   "execution_count": null,
   "id": "e5bffd41-6671-41cd-b6af-6deda8daabe4",
   "metadata": {},
   "outputs": [],
   "source": [
    "svg = spacy.displacy.render(doc, style=\"dep\")"
   ]
  },
  {
   "cell_type": "markdown",
   "id": "28d1e556-ac4c-4e73-99c5-465029e7580a",
   "metadata": {},
   "source": [
    "### 従来からの係り受け解析との互換性"
   ]
  },
  {
   "cell_type": "markdown",
   "id": "c3896023-2d65-499d-9b87-f5d0fe144fb3",
   "metadata": {},
   "source": [
    "従来からの日本語言語処理で用いられてきた，文節間の係り受けを再現できる仕組みも用意されている．"
   ]
  },
  {
   "cell_type": "code",
   "execution_count": null,
   "id": "a796ea9c-6424-45da-a29f-a9ceb55115db",
   "metadata": {},
   "outputs": [],
   "source": [
    "import ginza.command_line\n",
    "\n",
    "for sent in ginza.command_line.analyze(nlp, None, \"cabocha\", text):\n",
    "    for line in sent:\n",
    "        print(line)"
   ]
  }
 ],
 "metadata": {
  "kernelspec": {
   "display_name": "Python 3 (ipykernel)",
   "language": "python",
   "name": "python3"
  },
  "language_info": {
   "codemirror_mode": {
    "name": "ipython",
    "version": 3
   },
   "file_extension": ".py",
   "mimetype": "text/x-python",
   "name": "python",
   "nbconvert_exporter": "python",
   "pygments_lexer": "ipython3",
   "version": "3.9.7"
  },
  "toc-autonumbering": false,
  "toc-showcode": false,
  "toc-showmarkdowntxt": false,
  "toc-showtags": false
 },
 "nbformat": 4,
 "nbformat_minor": 5
}
